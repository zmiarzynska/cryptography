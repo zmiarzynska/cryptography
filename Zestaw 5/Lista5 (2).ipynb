{
 "cells": [
  {
   "cell_type": "markdown",
   "metadata": {},
   "source": [
    "# Lista 5 (8 pkt.)"
   ]
  },
  {
   "cell_type": "code",
   "execution_count": 1,
   "metadata": {},
   "outputs": [],
   "source": [
    "import numpy as np"
   ]
  },
  {
   "cell_type": "markdown",
   "metadata": {},
   "source": [
    "## Zadanie 1 (1 pkt.)"
   ]
  },
  {
   "cell_type": "markdown",
   "metadata": {},
   "source": [
    "Napisz funkcję $\\textit{hex2bin(hex_str,pad)}$, zamieniającą string z liczbą zapisaną heksagonalnie na zapisaną binarnie z użyciem $\\textit{pad}$ cyfr."
   ]
  },
  {
   "cell_type": "code",
   "execution_count": 2,
   "metadata": {},
   "outputs": [],
   "source": [
    "def hex2bin(hex_str,pad=0):\n",
    "    return bin(int(hex_str, 16))[2:].zfill(pad)"
   ]
  },
  {
   "cell_type": "code",
   "execution_count": 3,
   "metadata": {},
   "outputs": [
    {
     "name": "stdout",
     "output_type": "stream",
     "text": [
      "True\n",
      "True\n",
      "True\n",
      "True\n"
     ]
    }
   ],
   "source": [
    "print(hex2bin('a',2)=='1010')\n",
    "print(hex2bin('a',5)=='01010')\n",
    "print(hex2bin('1a',2)=='11010')\n",
    "print(hex2bin('1a',7)=='0011010')"
   ]
  },
  {
   "cell_type": "markdown",
   "metadata": {},
   "source": [
    "Napisz funkcję $\\textit{prepare_state(msg)}$, która zamienia ciąg 128 bitów na tablicę 4x4 zawierającą bajty (tzw. stan). Każdy bajt składa się z 8 bitów wziętych kolejno z $msg$. Bajty należy zapisac jako stringi składające się z dwóch cyfr w szystemie szesnastkowym.\n",
    "\n",
    "$$1101...1\\longrightarrow \\left[\\begin{array}{cccc}\n",
    "b_{00}&b_{01}&b_{02}&b_{03}\\\\\n",
    "b_{10}&b_{11}&b_{12}&b_{13}\\\\\n",
    "b_{20}&b_{21}&b_{22}&b_{23}\\\\\n",
    "b_{30}&b_{31}&b_{32}&b_{33}\\\\\n",
    "\\end{array}\\right]$$"
   ]
  },
  {
   "cell_type": "code",
   "execution_count": 4,
   "metadata": {},
   "outputs": [],
   "source": [
    "def prepare_state(msg):\n",
    "    result = []\n",
    "    temp=[]\n",
    "    for i in range(0,128,8):\n",
    "        temp.append(format(int(msg[i:i+8],2),'x').zfill(2))\n",
    "        if len(temp)==4:\n",
    "            result.append(temp)\n",
    "            temp=[]\n",
    "    return result"
   ]
  },
  {
   "cell_type": "code",
   "execution_count": 5,
   "metadata": {},
   "outputs": [
    {
     "name": "stdout",
     "output_type": "stream",
     "text": [
      "True\n"
     ]
    }
   ],
   "source": [
    "msg='01000110000010100000101110100010110111111100000001111011000100010010001111010010010011011101110011010011010000000100001100001001'\n",
    "print(prepare_state(msg)==\n",
    "     [['46', '0a', '0b', 'a2'],\n",
    "      ['df', 'c0', '7b', '11'],\n",
    "      ['23', 'd2', '4d', 'dc'],\n",
    "      ['d3', '40', '43', '09']])"
   ]
  },
  {
   "cell_type": "markdown",
   "metadata": {},
   "source": [
    "## Zadanie 2  (1 pkt.)"
   ]
  },
  {
   "cell_type": "markdown",
   "metadata": {},
   "source": [
    "Napisz funkcję $\\textit{SubBytes(state)}$, która w zadanym stanie $state$ zamienia bajty zgodnie z podanym SBox-em. Dla danego bajtu reprezentowanego przez dwie cyfry szesnastkowe, pierwsza z nich określa wiersz a druga kolumnę w SBox-ie. Na miejscu o tych współrzędnych znajdują się dwie cyfry rerezentujące bajt, którym należy zastąpić pierwotny bajt w stanie."
   ]
  },
  {
   "cell_type": "code",
   "execution_count": 6,
   "metadata": {},
   "outputs": [],
   "source": [
    "def SubBytes(state):\n",
    "    print(state)\n",
    "    for i in range(len(state)):\n",
    "        for j in range(len(state)):\n",
    "            #print(state[i][j], state[i][j][0], state[i][j][1])\n",
    "            row = int(state[i][j][0],16)\n",
    "            col = int(state[i][j][1],16)\n",
    "            state[i][j] = SBox[row][col]\n",
    "    return state"
   ]
  },
  {
   "cell_type": "code",
   "execution_count": 7,
   "metadata": {},
   "outputs": [],
   "source": [
    "SBox=[['63', '7c', '77', '7b', 'f2', '6b', '6f', 'c5', '30', '01', '67', '2b', 'fe', 'd7', 'ab', '76'],\n",
    "      ['ca', '82', 'c9', '7d', 'fa', '59', '47', 'f0', 'ad', 'd4', 'a2', 'af', '9c', 'a4', '72', 'c0'],\n",
    "      ['b7', 'fd', '93', '26', '36', '3f', 'f7', 'cc', '34', 'a5', 'e5', 'f1', '71', 'd8', '31', '15'],\n",
    "      ['04', 'c7', '23', 'c3', '18', '96', '05', '9a', '07', '12', '80', 'e2', 'eb', '27', 'b2', '75'],\n",
    "      ['09', '83', '2c', '1a', '1b', '6e', '5a', 'a0', '52', '3b', 'd6', 'b3', '29', 'e3', '2f', '84'],\n",
    "      ['53', 'd1', '00', 'ed', '20', 'fc', 'b1', '5b', '6a', 'cb', 'be', '39', '4a', '4c', '58', 'cf'],\n",
    "      ['d0', 'ef', 'aa', 'fb', '43', '4d', '33', '85', '45', 'f9', '02', '7f', '50', '3c', '9f', 'a8'],\n",
    "      ['51', 'a3', '40', '8f', '92', '9d', '38', 'f5', 'bc', 'b6', 'da', '21', '10', 'ff', 'f3', 'd2'],\n",
    "      ['cd', '0c', '13', 'ec', '5f', '97', '44', '17', 'c4', 'a7', '7e', '3d', '64', '5d', '19', '73'],\n",
    "      ['60', '81', '4f', 'dc', '22', '2a', '90', '88', '46', 'ee', 'b8', '14', 'de', '5e', '0b', 'db'],\n",
    "      ['e0', '32', '3a', '0a', '49', '06', '24', '5c', 'c2', 'd3', 'ac', '62', '91', '95', 'e4', '79'],\n",
    "      ['e7', 'c8', '37', '6d', '8d', 'd5', '4e', 'a9', '6c', '56', 'f4', 'ea', '65', '7a', 'ae', '08'],\n",
    "      ['ba', '78', '25', '2e', '1c', 'a6', 'b4', 'c6', 'e8', 'dd', '74', '1f', '4b', 'bd', '8b', '8a'],\n",
    "      ['70', '3e', 'b5', '66', '48', '03', 'f6', '0e', '61', '35', '57', 'b9', '86', 'c1', '1d', '9e'],\n",
    "      ['e1', 'f8', '98', '11', '69', 'd9', '8e', '94', '9b', '1e', '87', 'e9', 'ce', '55', '28', 'df'],\n",
    "      ['8c', 'a1', '89', '0d', 'bf', 'e6', '42', '68', '41', '99', '2d', '0f', 'b0', '54', 'bb', '16']]"
   ]
  },
  {
   "cell_type": "code",
   "execution_count": 8,
   "metadata": {},
   "outputs": [
    {
     "name": "stdout",
     "output_type": "stream",
     "text": [
      "[['46', '0a', '0b', 'a2'], ['df', 'c0', '7b', '11'], ['23', 'd2', '4d', 'dc'], ['d3', '40', '43', '09']]\n",
      "True\n"
     ]
    }
   ],
   "source": [
    "print(SubBytes([['46', '0a', '0b', 'a2'],\n",
    "                ['df', 'c0', '7b', '11'],\n",
    "                ['23', 'd2', '4d', 'dc'],\n",
    "                ['d3', '40', '43', '09']])==\n",
    "              [['5a', '67', '2b', '3a'],\n",
    "               ['9e', 'ba', '21', '82'],\n",
    "               ['26', 'b5', 'e3', '86'],\n",
    "               ['66', '09', '1a', '01']])"
   ]
  },
  {
   "cell_type": "markdown",
   "metadata": {},
   "source": [
    "## Zadanie 3  (1 pkt.)"
   ]
  },
  {
   "cell_type": "markdown",
   "metadata": {},
   "source": [
    "Napisz funkcję $\\textit{ShiftRows(state)}$, która w zadanym stanie przesuwa wiersze: drugi o 1, trzeci o 2, czwarty o 3 w lewo."
   ]
  },
  {
   "cell_type": "code",
   "execution_count": 9,
   "metadata": {},
   "outputs": [],
   "source": [
    "def ShiftRows(state):\n",
    "    state[1] = state[1][1:]+state[1][:1]\n",
    "    state[2] = state[2][2:]+state[2][:2]\n",
    "    state[3] = state[3][3:]+state[3][:3]\n",
    "    return state"
   ]
  },
  {
   "cell_type": "code",
   "execution_count": 10,
   "metadata": {},
   "outputs": [
    {
     "name": "stdout",
     "output_type": "stream",
     "text": [
      "True\n"
     ]
    }
   ],
   "source": [
    "print(ShiftRows([['5a', '67', '2b', '3a'],\n",
    "                 ['9e', 'ba', '21', '82'],\n",
    "                 ['26', 'b5', 'e3', '86'],\n",
    "                 ['66', '09', '1a', '01']])==\n",
    "                [['5a', '67', '2b', '3a'],\n",
    "                 ['ba', '21', '82', '9e'],\n",
    "                 ['e3', '86', '26', 'b5'],\n",
    "                 ['01', '66', '09', '1a']])"
   ]
  },
  {
   "cell_type": "markdown",
   "metadata": {},
   "source": [
    "## Zadanie 4  (1 pkt.)"
   ]
  },
  {
   "cell_type": "markdown",
   "metadata": {},
   "source": [
    "Napisz funkcję $\\textit{MixColumns(state)}$, która każdą kolumnę z zadanego stanu przemnaża przez macierz $A$, przy czym mnożenie i dodawanie elementów macierzy oraz kolumny są operacjami w ciele Galois, użyj funkcji z poprzedniej listy: $\\textit{multiply_GF}$, $\\textit{add_GF}$. Elementy macierzy $A$ to bajty zapisane jako dwie cyfry szesnastkowe, interpretujemy je jako elementy ciała $GF(2^8)$."
   ]
  },
  {
   "cell_type": "code",
   "execution_count": 11,
   "metadata": {},
   "outputs": [],
   "source": [
    "#zestaw 4\n",
    "def divide(p,q):\n",
    "    while q.startswith('0'):\n",
    "        q = q[1:]\n",
    "    result = '0'\n",
    "    if q == '1':\n",
    "        return p, '0'\n",
    "    while len(p) >= len(q):\n",
    "        r = '1' + (len(p) - len(q)) * '0'\n",
    "        result = add_GF(result, r)\n",
    "        p = add_GF(p, multiply(q, r))\n",
    "    return result, p"
   ]
  },
  {
   "cell_type": "code",
   "execution_count": 12,
   "metadata": {},
   "outputs": [],
   "source": [
    "#zestaw 4\n",
    "def multiply(p,q):\n",
    "    result = ''\n",
    "    counter = 0\n",
    "    for i in reversed(q):\n",
    "        result += str(int(p) * int(i)) + (counter * '0') + ' '\n",
    "        counter+=1\n",
    "    to_add = result.strip().split(' ')\n",
    "    for i in range(1, len(to_add)):\n",
    "        to_add[0] = add_GF(to_add[0], to_add[i])\n",
    "    return to_add[0]"
   ]
  },
  {
   "cell_type": "code",
   "execution_count": 13,
   "metadata": {},
   "outputs": [],
   "source": [
    "#zestaw 4\n",
    "def multiply_GF(p,q):\n",
    "    result = multiply(p,q)\n",
    "    if len(result) > 8:\n",
    "        return divide(result, '100011011')[1]\n",
    "    return result"
   ]
  },
  {
   "cell_type": "code",
   "execution_count": 14,
   "metadata": {},
   "outputs": [],
   "source": [
    "#zestaw 4\n",
    "def add_GF(p,q):\n",
    "    result = bin(int(p,2) ^ int(q,2))\n",
    "    while len(result) > 1 and result[0] != '1':\n",
    "        result=result[1:]\n",
    "        \n",
    "    return result\n",
    "        "
   ]
  },
  {
   "cell_type": "code",
   "execution_count": 15,
   "metadata": {},
   "outputs": [],
   "source": [
    "def MixColumns(state):\n",
    "    result = [[],[],[],[]]\n",
    "    for i in range(4):\n",
    "        for j in range(4):\n",
    "            sum_ = '0'\n",
    "            for k in range(4):\n",
    "                bin_a = hex2bin(A[i][k])\n",
    "                bin_b = hex2bin(state[k][j])\n",
    "                sum_ = add_GF(sum_, multiply_GF(bin_a, bin_b))\n",
    "            result[i].insert(j,format(int(sum_,2),'x').zfill(2))\n",
    "            sum_  ='0'\n",
    "    print(result)\n",
    "    return (result)"
   ]
  },
  {
   "cell_type": "code",
   "execution_count": 16,
   "metadata": {},
   "outputs": [],
   "source": [
    "A=[['02','03','01','01'],\n",
    "   ['01','02','03','01'],\n",
    "   ['01','01','02','03'],\n",
    "   ['03','01','01','02']]"
   ]
  },
  {
   "cell_type": "code",
   "execution_count": 17,
   "metadata": {},
   "outputs": [
    {
     "name": "stdout",
     "output_type": "stream",
     "text": [
      "[['83', '4d', 'e4', '62'], ['0a', 'd2', '57', 'c3'], ['3e', 'fb', 'fe', 'fb'], ['b5', 'c2', 'cb', '51']]\n",
      "True\n"
     ]
    }
   ],
   "source": [
    "print(MixColumns([['5a', '67', '2b', '3a'],\n",
    "                  ['ba', '21', '82', '9e'],\n",
    "                  ['e3', '86', '26', 'b5'],\n",
    "                  ['01', '66', '09', '1a']])==\n",
    "                 [['83', '4d', 'e4', '62'],\n",
    "                  ['0a', 'd2', '57', 'c3'],\n",
    "                  ['3e', 'fb', 'fe', 'fb'],\n",
    "                  ['b5', 'c2', 'cb', '51']])"
   ]
  },
  {
   "cell_type": "markdown",
   "metadata": {},
   "source": [
    "## Zadanie 5  (2 pkt.)"
   ]
  },
  {
   "cell_type": "markdown",
   "metadata": {},
   "source": [
    "Napisz funkcję $\\textit{KeyExpansion(key)}$, która z podanego klucza generuje podklucze zapisane w formie tablicy 4x4 za pomocą bajótw w systemie szesnastkowym, ograniczamy się tylko do przypadku klucza 128-bitowego. Zmienna $\\textit{rci}$ zawiera listę stałych, potrzebnych w algorytmie.\n",
    "\n",
    "Najpierw klucz dzielimy na 32 bitowe bloki, tzw. słowa.\n",
    "\n",
    "<img src=\"key_words.png\" width=\"500\" align=\"left\"/>"
   ]
  },
  {
   "cell_type": "markdown",
   "metadata": {},
   "source": [
    "Następnie generujemy 11 podkluczy. Pierwszy podklucz jest po prostu kluczem wejściowym (bloki w 1. rundzie), w kolejnych rundach gneruemy kolejne podklucze zgodnie ze schematem:\n",
    "\n",
    "<img src=\"key_expansion.png\" width=\"500\" align=\"left\"/>"
   ]
  },
  {
   "cell_type": "markdown",
   "metadata": {},
   "source": [
    "W schemacie użyte są następujące funkcje:\n",
    "\n",
    "RotWord działa podobnie jak funkcja ShiftRows z tym, że tylko na jednym \"słowie\" i przesuwa o jeden bajt, tzn. $RotWord([b_0,b_1,b_2,b_3])=[b_1,b_2,b_3,b_0]$\n",
    "\n",
    "SubWord działa podobnie jak SubBytes z tym, że znów na jednym \"słowie\" zamiast na \"stanie\": $SubWord([b_0,b_1,b_2,b_3])=[SBox(b_0),SBox(b_1),SBox(b_2),SBox(b_3)]$\n",
    "\n",
    "Rcon dodaje za pomocą operacji XOR słowo ['rc_{i/N}','00','00','00'] gdzie 'rc_{i/N}' to element z tablicy rci o indeksie i/N."
   ]
  },
  {
   "cell_type": "markdown",
   "metadata": {},
   "source": [
    "https://www.youtube.com/watch?v=nC0mjaUZd8w&t=711s&ab_channel=TeamScorpion"
   ]
  },
  {
   "cell_type": "code",
   "execution_count": 18,
   "metadata": {},
   "outputs": [],
   "source": [
    "def RotWord(w):\n",
    "    new_arr = w[1:]\n",
    "    new_arr.append(w[0])\n",
    "    return new_arr\n",
    "#print(RotWord(['bd', 'ff', '74', '1c']))"
   ]
  },
  {
   "cell_type": "code",
   "execution_count": 19,
   "metadata": {},
   "outputs": [],
   "source": [
    "def SubWord(w):\n",
    "    new_arr = []\n",
    "    for i in w:\n",
    "        row = int(i[0],16)\n",
    "        col = int(i[1],16)\n",
    "        new_arr.append(SBox[row][col])\n",
    "    return new_arr\n",
    "#SubWord(['bd', 'ff', '74', '1c'])"
   ]
  },
  {
   "cell_type": "code",
   "execution_count": 20,
   "metadata": {},
   "outputs": [],
   "source": [
    "def Rcon(sub_word,prev_key,i):\n",
    "    t_rcon = [rci[i],'00','00','00']\n",
    "    temp = []\n",
    "    for i in range(4):\n",
    "        t = format( int(sub_word[i],16) ^ int(t_rcon[i],16) ^ int(prev_key[i],16), 'x').zfill(2)\n",
    "        temp.append(t)\n",
    "    return temp\n",
    "#Rcon(['1e', '7e', '8e', '9c'],['a2', 'ca', '47', 'fd'], 0)"
   ]
  },
  {
   "cell_type": "code",
   "execution_count": 21,
   "metadata": {},
   "outputs": [],
   "source": [
    "def KeyExpansion(key): # generuje podklucze\n",
    "    #N=4, rundy = 11,  \n",
    "    def RotWord(w):\n",
    "        new_arr = w[1:]\n",
    "        new_arr.append(w[0])\n",
    "        return new_arr\n",
    "\n",
    "    def SubWord(w):\n",
    "        new_arr = []\n",
    "        for i in w:\n",
    "            row = int(i[0],16)\n",
    "            col = int(i[1],16)\n",
    "            new_arr.append(SBox[row][col])\n",
    "        return new_arr\n",
    "\n",
    "    def Rcon(sub_word,prev_key,i):\n",
    "        t_rcon = [rci[i],'00','00','00']\n",
    "        temp = []\n",
    "        for i in range(4):\n",
    "            t = format( int(sub_word[i],16) ^ int(t_rcon[i],16) ^ int(prev_key[i],16), 'x').zfill(2)\n",
    "            temp.append(t)\n",
    "        return temp\n",
    "\n",
    "    blocks = []\n",
    "    result = []\n",
    "    for i in range(0, 128 ,32):\n",
    "        temp = []\n",
    "        for j in range(0, 32, 8):\n",
    "            temp.append(format(int(key[i:i+32][j:j+8],2),'x').zfill(2))\n",
    "            print(f\"append to temp {format(int(key[i:i+32][j:j+8],2),'x').zfill(2)} \")\n",
    "        blocks.append(temp)\n",
    "    result.append(blocks)\n",
    "    print(f\"Result {result}\")\n",
    "\n",
    " #-----------------------------\n",
    "    for k in range(10):\n",
    "        print(f\"Print k {k}\")\n",
    "        subkey = []\n",
    "        for i in range(4):\n",
    "            element = []\n",
    "            if i == 0:  # dla pierwszego słowa\n",
    "                print(f\"i = 0 {i}\")\n",
    "                rot_wrd = RotWord(result[k][3])\n",
    "                print(f\"rot word {rot_wrd}\")\n",
    "                sub_wrd = SubWord(rot_wrd)\n",
    "                print(f\"sub word {sub_wrd}\")\n",
    "                print(f\"print k {k}\")\n",
    "                subkey.append(Rcon(sub_wrd, result[k][i], k))\n",
    "            else:\n",
    "                print(f\"i !!= 0 {i}\")\n",
    "                for j in range(4):\n",
    "                    print(f\"j {j}\")\n",
    "                    xor_prev = format( int(result[k][i][j],16) ^ int(subkey[i-1][j],16), 'x').zfill(2) # xor na słowach\n",
    "                    print(f\"xor prev {xor_prev} result int {int(result[k][i][j],16)}, subkey {int(subkey[i-1][j],16)} \")\n",
    "                    element.append(xor_prev)\n",
    "                subkey.append(element)\n",
    "        result.append(subkey)\n",
    "    return result\n",
    "#KeyExpansion('10111101101101001100100101100001111111111100001110000101100001110111010001010001101011111111111000011100111010011000101011100110')"
   ]
  },
  {
   "cell_type": "code",
   "execution_count": 22,
   "metadata": {},
   "outputs": [],
   "source": [
    "rci = ['01', '02', '04', '08', '10', '20', '40', '80', '1b', '36']"
   ]
  },
  {
   "cell_type": "code",
   "execution_count": 23,
   "metadata": {},
   "outputs": [
    {
     "name": "stdout",
     "output_type": "stream",
     "text": [
      "True\n"
     ]
    }
   ],
   "source": [
    "key='10111101101101001100100101100001111111111100001110000101100001110111010001010001101011111111111000011100111010011000101011100110'\n",
    "print(KeyExpansion(key)==\n",
    "[[['bd', 'b4', 'c9', '61'],\n",
    "  ['ff', 'c3', '85', '87'],\n",
    "  ['74', '51', 'af', 'fe'],\n",
    "  ['1c', 'e9', '8a', 'e6']],\n",
    " [['a2', 'ca', '47', 'fd'],\n",
    "  ['5d', '09', 'c2', '7a'],\n",
    "  ['29', '58', '6d', '84'],\n",
    "  ['35', 'b1', 'e7', '62']],\n",
    " [['68', '5e', 'ed', '6b'],\n",
    "  ['35', '57', '2f', '11'],\n",
    "  ['1c', '0f', '42', '95'],\n",
    "  ['29', 'be', 'a5', 'f7']],\n",
    " [['c2', '58', '85', 'ce'],\n",
    "  ['f7', '0f', 'aa', 'df'],\n",
    "  ['eb', '00', 'e8', '4a'],\n",
    "  ['c2', 'be', '4d', 'bd']],\n",
    " [['64', 'bb', 'ff', 'eb'],\n",
    "  ['93', 'b4', '55', '34'],\n",
    "  ['78', 'b4', 'bd', '7e'],\n",
    "  ['ba', '0a', 'f0', 'c3']],\n",
    " [['13', '37', 'd1', '1f'],\n",
    "  ['80', '83', '84', '2b'],\n",
    "  ['f8', '37', '39', '55'],\n",
    "  ['42', '3d', 'c9', '96']],\n",
    " [['14', 'ea', '41', '33'],\n",
    "  ['94', '69', 'c5', '18'],\n",
    "  ['6c', '5e', 'fc', '4d'],\n",
    "  ['2e', '63', '35', 'db']],\n",
    " [['af', '7c', 'f8', '02'],\n",
    "  ['3b', '15', '3d', '1a'],\n",
    "  ['57', '4b', 'c1', '57'],\n",
    "  ['79', '28', 'f4', '8c']],\n",
    " [['1b', 'c3', '9c', 'b4'],\n",
    "  ['20', 'd6', 'a1', 'ae'],\n",
    "  ['77', '9d', '60', 'f9'],\n",
    "  ['0e', 'b5', '94', '75']],\n",
    " [['d5', 'e1', '01', '1f'],\n",
    "  ['f5', '37', 'a0', 'b1'],\n",
    "  ['82', 'aa', 'c0', '48'],\n",
    "  ['8c', '1f', '54', '3d']],\n",
    " [['23', 'c1', '26', '7b'],\n",
    "  ['d6', 'f6', '86', 'ca'],\n",
    "  ['54', '5c', '46', '82'],\n",
    "  ['d8', '43', '12', 'bf']]])"
   ]
  },
  {
   "cell_type": "markdown",
   "metadata": {},
   "source": [
    "## Zadanie 6  (1 pkt.)"
   ]
  },
  {
   "cell_type": "markdown",
   "metadata": {},
   "source": [
    "Napisz funkcję $\\textit{AddRoundKey(state,subkey)}$, która do stanu dodaje podklucz. Zarówno stan jak i podklucz są tablicami 4x4 zawierającymi bajty. Bajty traktujemy jako ciągi bitów i dodajemy za pomocą alternatywy wykluczającej, tablice tych bajtów dodajemy jak macierze, element po elemencie.\n",
    "\n",
    "$$\\left[\\begin{array}{cccc}\n",
    "b_{00}&b_{01}&b_{02}&b_{03}\\\\\n",
    "b_{10}&b_{11}&b_{12}&b_{13}\\\\\n",
    "b_{20}&b_{21}&b_{22}&b_{23}\\\\\n",
    "b_{30}&b_{31}&b_{32}&b_{33}\\\\\n",
    "\\end{array}\\right]+\\left[\\begin{array}{cccc}\n",
    "k_{00}&k_{01}&k_{02}&k_{03}\\\\\n",
    "k_{10}&k_{11}&k_{12}&k_{13}\\\\\n",
    "k_{20}&k_{21}&k_{22}&k_{23}\\\\\n",
    "k_{30}&k_{31}&k_{32}&k_{33}\\\\\n",
    "\\end{array}\\right]=\\left[\\begin{array}{cccc}\n",
    "b_{00}\\oplus k_{00}&b_{01}\\oplus k_{01}&b_{02}\\oplus k_{02}&b_{03}\\oplus k_{03}\\\\\n",
    "b_{10}\\oplus k_{10}&b_{11}\\oplus k_{11}&b_{12}\\oplus k_{12}&b_{13}\\oplus k_{13}\\\\\n",
    "b_{20}\\oplus k_{20}&b_{21}\\oplus k_{21}&b_{22}\\oplus k_{22}&b_{23}\\oplus k_{23}\\\\\n",
    "b_{30}\\oplus k_{30}&b_{31}\\oplus k_{31}&b_{32}\\oplus k_{32}&b_{33}\\oplus k_{33}\\\\\n",
    "\\end{array}\\right]$$"
   ]
  },
  {
   "cell_type": "code",
   "execution_count": 61,
   "metadata": {},
   "outputs": [],
   "source": [
    "def AddRoundKey(state,subkey):\n",
    "    result = []\n",
    "    for i in range(len(state)):\n",
    "        row = []\n",
    "        for j in range(len(state)):\n",
    "            xor = add_GF(hex2bin(state[i][j]),hex2bin(subkey[i][j]))\n",
    "            row.append(format(int(xor,2),'x').zfill(2))\n",
    "        result.append(row)\n",
    "    return result\n",
    "            "
   ]
  },
  {
   "cell_type": "code",
   "execution_count": 62,
   "metadata": {},
   "outputs": [
    {
     "name": "stdout",
     "output_type": "stream",
     "text": [
      "True\n"
     ]
    }
   ],
   "source": [
    "print(AddRoundKey([['83', '4d', 'e4', '62'],\n",
    "                   ['0a', 'd2', '57', 'c3'],\n",
    "                   ['3e', 'fb', 'fe', 'fb'],\n",
    "                   ['b5', 'c2', 'cb', '51']],\n",
    "                  [['23', 'c1', '26', '7b'],\n",
    "                   ['d6', 'f6', '86', 'ca'],\n",
    "                   ['54', '5c', '46', '82'],\n",
    "                   ['d8', '43', '12', 'bf']])==\n",
    "                  [['a0', '8c', 'c2', '19'],\n",
    "                   ['dc', '24', 'd1', '09'],\n",
    "                   ['6a', 'a7', 'b8', '79'],\n",
    "                   ['6d', '81', 'd9', 'ee']])"
   ]
  },
  {
   "cell_type": "markdown",
   "metadata": {},
   "source": [
    "## Zadanie 7  (1 pkt.)"
   ]
  },
  {
   "cell_type": "markdown",
   "metadata": {},
   "source": [
    "Napisz funkcję $\\textit{AES(msg,subkeys)}$, która szyfruje wiadomość $\\textit{msg}$ za pomocą podkluczy $\\textit{subkeys}$. Rzoważamy jedynie przypadek 128 bitowy. Użyj poprzednich funkcji zgodnie ze schematem:\n",
    "\n",
    "1. $subkeys$ uzyskujemy z funkcji $KeyExpansion$.\n",
    "2. Zamieniamy wiadomość na stan, $prepare\\_state$\n",
    "3. Runda początkowa  - dodajemy do stanu pierwszy podklucz.\n",
    "4. 9 rund, w których wykonujemy następujące operacje na stanie: SubBytes, ShiftRows, MixColumns i dodajemy kolejny podklucz\n",
    "5. Runda finalna - wykonujemy na stanie: SubBytes, ShiftRows i dodajemy kolejny podklucz\n",
    "6. Zamieniamy stan z powrotem na ciąg bitów."
   ]
  },
  {
   "cell_type": "code",
   "execution_count": 91,
   "metadata": {},
   "outputs": [],
   "source": [
    "def AES(msg,subkeys):\n",
    "    state = prepare_state(msg)\n",
    "    state = AddRoundKey(state, subkeys[0])\n",
    "    for i in range(1,10):\n",
    "        state = SubBytes(state)\n",
    "        state = ShiftRows(state)\n",
    "        state = MixColumns(state)\n",
    "        state = AddRoundKey(state, subkeys[i])\n",
    "    state = SubBytes(state)\n",
    "    state = ShiftRows(state)\n",
    "    state = AddRoundKey(state, subkeys[10])\n",
    "    state = ''.join(ele for sub in state for ele in sub)\n",
    "    return hex2bin(state)\n",
    "    "
   ]
  },
  {
   "cell_type": "code",
   "execution_count": 92,
   "metadata": {},
   "outputs": [
    {
     "name": "stdout",
     "output_type": "stream",
     "text": [
      "[['fb', 'be', 'c2', 'c3'], ['20', '03', 'fe', '96'], ['57', '83', 'e2', '22'], ['cf', 'a9', 'c9', 'ef']]\n",
      "[['d4', '88', '69', 'af'], ['95', 'e7', '20', 'a9'], ['25', 'ad', '6d', '26'], ['57', 'ce', '19', '88']]\n",
      "[['76', '42', '2e', '52'], ['c8', 'ee', 'e2', 'd3'], ['0c', 'f5', '00', 'a2'], ['62', '7f', 'fe', 'ea']]\n",
      "[['ec', '7b', 'e4', '7e'], ['4a', 'e3', '36', '41'], ['44', '25', 'dd', 'e9'], ['16', '99', '74', '63']]\n",
      "[['84', '25', '09', '15'], ['7f', 'b4', '19', '50'], ['58', '2a', '9f', '7c'], ['3f', '27', 'd1', '94']]\n",
      "[['cb', '7c', '51', '04'], ['0a', 'c9', 'd5', 'ec'], ['19', '54', 'c9', '18'], ['f3', '6f', 'b9', 'a0']]\n",
      "[['09', '24', 'd4', 'ca'], ['fd', 'c6', '7f', '33'], ['f2', '54', '21', '52'], ['31', 'd1', 'f4', '1d']]\n",
      "[['9c', 'c6', '79', '8b'], ['ca', '4e', '6b', '03'], ['a3', 'b6', 'c0', 'ba'], ['19', '1d', 'ee', '8d']]\n",
      "[['f8', '7d', '86', '60'], ['59', 'fa', '3e', '37'], ['db', '02', '7d', 'c4'], ['a3', '17', '1e', '4e']]\n",
      "[['25', '3e', '74', 'f8'], ['2e', 'ae', '4b', 'b6'], ['f8', '6b', 'bc', '63'], ['4f', 'a0', '14', '33']]\n",
      "[['36', '09', 'a5', 'e7'], ['ae', '2d', 'cf', '9d'], ['00', '5c', '85', '36'], ['0d', '9d', 'dd', 'a5']]\n",
      "[['e8', '55', 'd3', '8f'], ['0a', 'd6', '41', '58'], ['e2', 'e3', '7c', 'bc'], ['4c', '39', '8b', '90']]\n",
      "[['fc', 'bf', '92', 'bc'], ['9e', 'bf', '84', '40'], ['8e', 'bd', '80', 'f1'], ['62', '5a', 'be', '4b']]\n",
      "[['1d', 'fa', '22', '03'], ['5f', 'e4', 'c8', '53'], ['f7', 'eb', 'ad', '73'], ['73', 'a9', 'a6', '99']]\n",
      "[['b2', '86', 'da', '01'], ['64', 'f1', 'f5', '49'], ['a0', 'a0', '6c', '24'], ['0a', '81', '52', '15']]\n",
      "[['9f', 'e8', '0f', 'dd'], ['c7', 'ae', '16', 'c1'], ['dd', '67', 'a3', 'e4'], ['1a', 'd2', '3a', '27']]\n",
      "[['84', '2b', '93', '69'], ['e7', '78', 'b7', '6f'], ['aa', 'fa', 'c3', '1d'], ['14', '67', 'ae', '52']]\n",
      "[['4f', '47', '69', '87'], ['4e', 'b5', 'fd', '59'], ['bf', '1e', 'a3', '00'], ['73', 'ea', '6a', '7a']]\n",
      "[['9a', 'a6', '68', '98'], ['bb', '82', '5d', 'e8'], ['3d', 'b4', '63', '48'], ['ff', 'f5', '3e', '47']]\n",
      "True\n"
     ]
    }
   ],
   "source": [
    "#msg i key to zmienne z poprzednich zadań\n",
    "subkeys=KeyExpansion(key)\n",
    "print(AES(msg,subkeys)=='10011011111001010110001100111101110001011011101000011101001000001010111100001110011000010000111101111000010101011111010000001101')"
   ]
  }
 ],
 "metadata": {
  "kernelspec": {
   "display_name": "Python 3 (ipykernel)",
   "language": "python",
   "name": "python3"
  },
  "language_info": {
   "codemirror_mode": {
    "name": "ipython",
    "version": 3
   },
   "file_extension": ".py",
   "mimetype": "text/x-python",
   "name": "python",
   "nbconvert_exporter": "python",
   "pygments_lexer": "ipython3",
   "version": "3.9.7"
  }
 },
 "nbformat": 4,
 "nbformat_minor": 4
}
