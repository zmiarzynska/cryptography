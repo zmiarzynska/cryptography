{
 "cells": [
  {
   "cell_type": "markdown",
   "metadata": {},
   "source": [
    "# Lista 5 (8 pkt.)"
   ]
  },
  {
   "cell_type": "code",
   "execution_count": 28,
   "metadata": {},
   "outputs": [],
   "source": [
    "import numpy as np"
   ]
  },
  {
   "cell_type": "markdown",
   "metadata": {},
   "source": [
    "## Zadanie 1 (1 pkt.)"
   ]
  },
  {
   "cell_type": "markdown",
   "metadata": {},
   "source": [
    "Napisz funkcję $\\textit{hex2bin(hex_str,pad)}$, zamieniającą string z liczbą zapisaną heksagonalnie na zapisaną binarnie z użyciem $\\textit{pad}$ cyfr."
   ]
  },
  {
   "cell_type": "code",
   "execution_count": 29,
   "metadata": {},
   "outputs": [],
   "source": [
    "def hex2bin(hex_str,pad=0):\n",
    "    res = str(bin((int(hex_str, 16))).replace(\"0b\",\"\"))\n",
    "    res = res.zfill(pad)\n",
    "    #print(res)\n",
    "    return res"
   ]
  },
  {
   "cell_type": "code",
   "execution_count": 30,
   "metadata": {},
   "outputs": [
    {
     "name": "stdout",
     "output_type": "stream",
     "text": [
      "True\n",
      "True\n",
      "True\n",
      "True\n"
     ]
    }
   ],
   "source": [
    "print(hex2bin('a',2)=='1010')\n",
    "print(hex2bin('a',5)=='01010')\n",
    "print(hex2bin('1a',2)=='11010')\n",
    "print(hex2bin('1a',7)=='0011010')"
   ]
  },
  {
   "cell_type": "markdown",
   "metadata": {},
   "source": [
    "Napisz funkcję $\\textit{prepare_state(msg)}$, która zamienia ciąg 128 bitów na tablicę 4x4 zawierającą bajty (tzw. stan). Każdy bajt składa się z 8 bitów wziętych kolejno z $msg$. Bajty należy zapisac jako stringi składające się z dwóch cyfr w szystemie szesnastkowym.\n",
    "\n",
    "$$1101...1\\longrightarrow \\left[\\begin{array}{cccc}\n",
    "b_{00}&b_{01}&b_{02}&b_{03}\\\\\n",
    "b_{10}&b_{11}&b_{12}&b_{13}\\\\\n",
    "b_{20}&b_{21}&b_{22}&b_{23}\\\\\n",
    "b_{30}&b_{31}&b_{32}&b_{33}\\\\\n",
    "\\end{array}\\right]$$"
   ]
  },
  {
   "cell_type": "code",
   "execution_count": 31,
   "metadata": {},
   "outputs": [],
   "source": [
    "def prepare_state(msg):\n",
    "    arr = []\n",
    "    arr_temp = []\n",
    "    for i in range(4):\n",
    "        to_array=\"\"\n",
    "        for j in range(1,9):\n",
    "            #print(f\"j {j}  i {i}\")\n",
    "            to_array += format(int(msg[:4],2),'x')\n",
    "            if j%2==0: \n",
    "               # print(j , \" \" , to_array)\n",
    "                arr_temp.append(to_array)\n",
    "                to_array=\"\"\n",
    "            msg = msg[4:]\n",
    "        arr.append(arr_temp)\n",
    "        arr_temp = []\n",
    "    return arr"
   ]
  },
  {
   "cell_type": "code",
   "execution_count": 32,
   "metadata": {},
   "outputs": [
    {
     "name": "stdout",
     "output_type": "stream",
     "text": [
      "True\n"
     ]
    }
   ],
   "source": [
    "msg='01000110000010100000101110100010110111111100000001111011000100010010001111010010010011011101110011010011010000000100001100001001'\n",
    "\n",
    "print(prepare_state(msg)==\n",
    "     [['46', '0a', '0b', 'a2'],\n",
    "      ['df', 'c0', '7b', '11'],\n",
    "      ['23', 'd2', '4d', 'dc'],\n",
    "      ['d3', '40', '43', '09']])"
   ]
  },
  {
   "cell_type": "markdown",
   "metadata": {},
   "source": [
    "## Zadanie 2  (1 pkt.)"
   ]
  },
  {
   "cell_type": "markdown",
   "metadata": {},
   "source": [
    "Napisz funkcję $\\textit{SubBytes(state)}$, która w zadanym stanie $state$ zamienia bajty zgodnie z podanym SBox-em. Dla danego bajtu reprezentowanego przez dwie cyfry szesnastkowe, pierwsza z nich określa wiersz a druga kolumnę w SBox-ie. Na miejscu o tych współrzędnych znajdują się dwie cyfry rerezentujące bajt, którym należy zastąpić pierwotny bajt w stanie."
   ]
  },
  {
   "cell_type": "code",
   "execution_count": 33,
   "metadata": {},
   "outputs": [],
   "source": [
    "def SubBytes(state):\n",
    "    for i in range(4):\n",
    "        for j in range(4):\n",
    "            row = state[i][j][0]\n",
    "            col = state[i][j][1]\n",
    "            state[i][j] = SBox[int(row,16)][int(col,16)]\n",
    "    return state"
   ]
  },
  {
   "cell_type": "code",
   "execution_count": 34,
   "metadata": {},
   "outputs": [],
   "source": [
    "SBox=[['63', '7c', '77', '7b', 'f2', '6b', '6f', 'c5', '30', '01', '67', '2b', 'fe', 'd7', 'ab', '76'],\n",
    "      ['ca', '82', 'c9', '7d', 'fa', '59', '47', 'f0', 'ad', 'd4', 'a2', 'af', '9c', 'a4', '72', 'c0'],\n",
    "      ['b7', 'fd', '93', '26', '36', '3f', 'f7', 'cc', '34', 'a5', 'e5', 'f1', '71', 'd8', '31', '15'],\n",
    "      ['04', 'c7', '23', 'c3', '18', '96', '05', '9a', '07', '12', '80', 'e2', 'eb', '27', 'b2', '75'],\n",
    "      ['09', '83', '2c', '1a', '1b', '6e', '5a', 'a0', '52', '3b', 'd6', 'b3', '29', 'e3', '2f', '84'],\n",
    "      ['53', 'd1', '00', 'ed', '20', 'fc', 'b1', '5b', '6a', 'cb', 'be', '39', '4a', '4c', '58', 'cf'],\n",
    "      ['d0', 'ef', 'aa', 'fb', '43', '4d', '33', '85', '45', 'f9', '02', '7f', '50', '3c', '9f', 'a8'],\n",
    "      ['51', 'a3', '40', '8f', '92', '9d', '38', 'f5', 'bc', 'b6', 'da', '21', '10', 'ff', 'f3', 'd2'],\n",
    "      ['cd', '0c', '13', 'ec', '5f', '97', '44', '17', 'c4', 'a7', '7e', '3d', '64', '5d', '19', '73'],\n",
    "      ['60', '81', '4f', 'dc', '22', '2a', '90', '88', '46', 'ee', 'b8', '14', 'de', '5e', '0b', 'db'],\n",
    "      ['e0', '32', '3a', '0a', '49', '06', '24', '5c', 'c2', 'd3', 'ac', '62', '91', '95', 'e4', '79'],\n",
    "      ['e7', 'c8', '37', '6d', '8d', 'd5', '4e', 'a9', '6c', '56', 'f4', 'ea', '65', '7a', 'ae', '08'],\n",
    "      ['ba', '78', '25', '2e', '1c', 'a6', 'b4', 'c6', 'e8', 'dd', '74', '1f', '4b', 'bd', '8b', '8a'],\n",
    "      ['70', '3e', 'b5', '66', '48', '03', 'f6', '0e', '61', '35', '57', 'b9', '86', 'c1', '1d', '9e'],\n",
    "      ['e1', 'f8', '98', '11', '69', 'd9', '8e', '94', '9b', '1e', '87', 'e9', 'ce', '55', '28', 'df'],\n",
    "      ['8c', 'a1', '89', '0d', 'bf', 'e6', '42', '68', '41', '99', '2d', '0f', 'b0', '54', 'bb', '16']]"
   ]
  },
  {
   "cell_type": "code",
   "execution_count": 35,
   "metadata": {},
   "outputs": [
    {
     "name": "stdout",
     "output_type": "stream",
     "text": [
      "True\n"
     ]
    }
   ],
   "source": [
    "print(SubBytes([['46', '0a', '0b', 'a2'],\n",
    "                ['df', 'c0', '7b', '11'],\n",
    "                ['23', 'd2', '4d', 'dc'],\n",
    "                ['d3', '40', '43', '09']])==\n",
    "              [['5a', '67', '2b', '3a'],\n",
    "               ['9e', 'ba', '21', '82'],\n",
    "               ['26', 'b5', 'e3', '86'],\n",
    "               ['66', '09', '1a', '01']])"
   ]
  },
  {
   "cell_type": "markdown",
   "metadata": {},
   "source": [
    "## Zadanie 3  (1 pkt.)"
   ]
  },
  {
   "cell_type": "markdown",
   "metadata": {},
   "source": [
    "Napisz funkcję $\\textit{ShiftRows(state)}$, która w zadanym stanie przesuwa wiersze: drugi o 1, trzeci o 2, czwarty o 3 w lewo."
   ]
  },
  {
   "cell_type": "code",
   "execution_count": 36,
   "metadata": {},
   "outputs": [],
   "source": [
    "def ShiftRows(state):\n",
    "    for i in range(1,4):\n",
    "        state[i]=state[i][i:] + state[i][:i]\n",
    "    return state"
   ]
  },
  {
   "cell_type": "code",
   "execution_count": 37,
   "metadata": {},
   "outputs": [
    {
     "name": "stdout",
     "output_type": "stream",
     "text": [
      "True\n"
     ]
    }
   ],
   "source": [
    "print(ShiftRows([['5a', '67', '2b', '3a'],\n",
    "                 ['9e', 'ba', '21', '82'],\n",
    "                 ['26', 'b5', 'e3', '86'],\n",
    "                 ['66', '09', '1a', '01']])==\n",
    "                [['5a', '67', '2b', '3a'],\n",
    "                 ['ba', '21', '82', '9e'],\n",
    "                 ['e3', '86', '26', 'b5'],\n",
    "                 ['01', '66', '09', '1a']])"
   ]
  },
  {
   "cell_type": "markdown",
   "metadata": {},
   "source": [
    "## Zadanie 4  (1 pkt.)"
   ]
  },
  {
   "cell_type": "markdown",
   "metadata": {},
   "source": [
    "Napisz funkcję $\\textit{MixColumns(state)}$, która każdą kolumnę z zadanego stanu przemnaża przez macierz $A$, przy czym mnożenie i dodawanie elementów macierzy oraz kolumny są operacjami w ciele Galois, użyj funkcji z poprzedniej listy: $\\textit{multiply_GF}$, $\\textit{add_GF}$. Elementy macierzy $A$ to bajty zapisane jako dwie cyfry szesnastkowe, interpretujemy je jako elementy ciała $GF(2^8)$."
   ]
  },
  {
   "cell_type": "code",
   "execution_count": 38,
   "metadata": {},
   "outputs": [],
   "source": [
    "def multiply(p, q):\n",
    "    result = ''\n",
    "    occurence_dict = {}\n",
    "\n",
    "    longer = max(len(p), len(q))\n",
    "    p = p.zfill(longer)\n",
    "    q = q.zfill(longer)\n",
    "    \n",
    "    for i in range(len(p)):\n",
    "        for j in range(len(q)):\n",
    "            if j + i in occurence_dict.keys():\n",
    "                occurence_dict[i + j].append(str(int(p[i]) * int(q[j])))\n",
    "            else:\n",
    "                occurence_dict[i + j] = [str(int(p[i]) * int(q[j]))]\n",
    "    for occurence_value in occurence_dict.values():\n",
    "        occurence = occurence_value[0]\n",
    "        for i in range(1, len(occurence_value)):\n",
    "            occurence = add_GF(occurence, occurence_value[i])\n",
    "            if (occurence == ''):\n",
    "                occurence = '0'\n",
    "        result += occurence\n",
    "    result = result.lstrip('0')\n",
    "    return result\n",
    "\n",
    "def multiply_GF(p, q):\n",
    "    polynomial = '100011011'\n",
    "    result = multiply(p, q)  \n",
    "\n",
    "    if (len(result) > len(polynomial) - 1):\n",
    "        result = divide(result, polynomial)[1]\n",
    "    return result\n",
    "\n",
    "def add_GF(p,q):\n",
    "    length=max(len(p),len(q))\n",
    "    p = p.zfill(length)\n",
    "    q = q.zfill(length)\n",
    "    result='0'\n",
    "    for i in range(length):\n",
    "        result+=str(int(p[i]) ^ int(q[i]))\n",
    "    result = result.lstrip('0')\n",
    "    if result == '':\n",
    "        result ='0'\n",
    "    return result\n",
    "\n",
    "def divide(p, q):\n",
    "    result = '0'\n",
    "    q = q.lstrip('0')\n",
    "    if q == '1':\n",
    "        return p, '0'\n",
    "    while len(p) >= len(q):\n",
    "        polynomial_degree = len(p) - len(q)\n",
    "        r = '1' + polynomial_degree * '0'\n",
    "        result = add_GF(result, r)\n",
    "        p = add_GF(p, multiply(q, r)) \n",
    "        if (p == ''):\n",
    "            p = '0'\n",
    "    return result, p"
   ]
  },
  {
   "cell_type": "code",
   "execution_count": 39,
   "metadata": {},
   "outputs": [],
   "source": [
    "from typing import List\n",
    "\n",
    "def MixColumns(state):\n",
    "    result: List[List[str]] = []\n",
    "    for i in range(4):\n",
    "        sub_result = []\n",
    "        result.append(sub_result)\n",
    "    for i in range(4):\n",
    "        for j in range(4):\n",
    "            sum_ = '0'\n",
    "            for k in range(4):\n",
    "                bin_1 = hex2bin(A[i][k])\n",
    "                bin_2 = hex2bin(state[k][j])\n",
    "                sum_ = add_GF(sum_, multiply_GF(bin_1, bin_2))\n",
    "            result[i].insert(j,format(int(sum_,2),'x').zfill(2))\n",
    "            sum_ = '0'\n",
    "    return (result)        "
   ]
  },
  {
   "cell_type": "code",
   "execution_count": 40,
   "metadata": {},
   "outputs": [],
   "source": [
    "A=[['02','03','01','01'],\n",
    "   ['01','02','03','01'],\n",
    "   ['01','01','02','03'],\n",
    "   ['03','01','01','02']]"
   ]
  },
  {
   "cell_type": "code",
   "execution_count": 41,
   "metadata": {},
   "outputs": [
    {
     "name": "stdout",
     "output_type": "stream",
     "text": [
      "True\n"
     ]
    }
   ],
   "source": [
    "print(MixColumns([['5a', '67', '2b', '3a'],\n",
    "                  ['ba', '21', '82', '9e'],\n",
    "                  ['e3', '86', '26', 'b5'],\n",
    "                  ['01', '66', '09', '1a']])==\n",
    "                 [['83', '4d', 'e4', '62'],\n",
    "                  ['0a', 'd2', '57', 'c3'],\n",
    "                  ['3e', 'fb', 'fe', 'fb'],\n",
    "                  ['b5', 'c2', 'cb', '51']])"
   ]
  },
  {
   "cell_type": "markdown",
   "metadata": {},
   "source": [
    "## Zadanie 5  (2 pkt.)"
   ]
  },
  {
   "cell_type": "markdown",
   "metadata": {},
   "source": [
    "Napisz funkcję $\\textit{KeyExpansion(key)}$, która z podanego klucza generuje podklucze zapisane w formie tablicy 4x4 za pomocą bajótw w systemie szesnastkowym, ograniczamy się tylko do przypadku klucza 128-bitowego. Zmienna $\\textit{rci}$ zawiera listę stałych, potrzebnych w algorytmie.\n",
    "\n",
    "Najpierw klucz dzielimy na 32 bitowe bloki, tzw. słowa.\n",
    "\n",
    "<img src=\"key_words.png\" width=\"500\" align=\"left\"/>"
   ]
  },
  {
   "cell_type": "markdown",
   "metadata": {},
   "source": [
    "Następnie generujemy 11 podkluczy. Pierwszy podklucz jest po prostu kluczem wejściowym (bloki w 1. rundzie), w kolejnych rundach gneruemy kolejne podklucze zgodnie ze schematem:\n",
    "\n",
    "<img src=\"key_expansion.png\" width=\"500\" align=\"left\"/>"
   ]
  },
  {
   "cell_type": "markdown",
   "metadata": {},
   "source": [
    "W schemacie użyte są następujące funkcje:\n",
    "\n",
    "RotWord działa podobnie jak funkcja ShiftRows z tym, że tylko na jednym \"słowie\" i przesuwa o jeden bajt, tzn. $RotWord([b_0,b_1,b_2,b_3])=[b_1,b_2,b_3,b_0]$\n",
    "\n",
    "SubWord działa podobnie jak SubBytes z tym, że znów na jednym \"słowie\" zamiast na \"stanie\": $SubWord([b_0,b_1,b_2,b_3])=[SBox(b_0),SBox(b_1),SBox(b_2),SBox(b_3)]$\n",
    "\n",
    "Rcon dodaje za pomocą operacji XOR słowo ['rc_{i/N}','00','00','00'] gdzie 'rc_{i/N}' to element z tablicy rci o indeksie i/N."
   ]
  },
  {
   "cell_type": "code",
   "execution_count": 42,
   "metadata": {},
   "outputs": [],
   "source": [
    "def KeyExpansion(key): # generuje podklucze\n",
    "    def RotWord(w):\n",
    "        shifted_word = w[1:]\n",
    "        shifted_word.append(w[0])\n",
    "        return shifted_word\n",
    "\n",
    "    def SubWord(w):\n",
    "        s_Box_word = []\n",
    "        for i in w:\n",
    "            row = int(i[0],16)\n",
    "            col = int(i[1],16)\n",
    "            s_Box_word.append(SBox[row][col])\n",
    "        return s_Box_word\n",
    "\n",
    "    def Rcon(sub_word,prev_key,i):\n",
    "        table_rcon = [rci[int(i)],'00','00','00']\n",
    "        temp = []\n",
    "        for i in range(4):\n",
    "            t = format( int(sub_word[i],16) ^ int(table_rcon[i],16) ^ int(prev_key[i],16), 'x').zfill(2)\n",
    "            temp.append(t)\n",
    "        return temp\n",
    "\n",
    "    blocks = []\n",
    "    result = []\n",
    "    for i in range(0, 128 ,32):\n",
    "        temp = []\n",
    "        for j in range(0, 32, 8):\n",
    "            temp.append(format(int(key[i:i+32][j:j+8],2),'x').zfill(2))\n",
    "        blocks.append(temp)\n",
    "    result.append(blocks)\n",
    "\n",
    " #-----------------------------\n",
    "    for k in range(10):\n",
    "        subkeys = []\n",
    "        for i in range(4):\n",
    "            element = []\n",
    "            if i == 0: \n",
    "                rot_wrd = RotWord(result[k][3])\n",
    "                sub_wrd = SubWord(rot_wrd)\n",
    "                subkeys.append(Rcon(sub_wrd, result[k][i], k))\n",
    "            else:\n",
    "                for j in range(4):\n",
    "                    xor_prev = format( int(result[k][i][j],16) ^ int(subkeys[i-1][j],16), 'x').zfill(2)\n",
    "                    element.append(xor_prev)\n",
    "                subkeys.append(element)\n",
    "        result.append(subkeys)\n",
    "    return result"
   ]
  },
  {
   "cell_type": "code",
   "execution_count": 43,
   "metadata": {},
   "outputs": [],
   "source": [
    "rci = ['01', '02', '04', '08', '10', '20', '40', '80', '1b', '36']"
   ]
  },
  {
   "cell_type": "code",
   "execution_count": 44,
   "metadata": {},
   "outputs": [
    {
     "name": "stdout",
     "output_type": "stream",
     "text": [
      "True\n"
     ]
    }
   ],
   "source": [
    "key='10111101101101001100100101100001111111111100001110000101100001110111010001010001101011111111111000011100111010011000101011100110'\n",
    "print(KeyExpansion(key)==\n",
    "[[['bd', 'b4', 'c9', '61'],\n",
    "  ['ff', 'c3', '85', '87'],\n",
    "  ['74', '51', 'af', 'fe'],\n",
    "  ['1c', 'e9', '8a', 'e6']],\n",
    " [['a2', 'ca', '47', 'fd'],\n",
    "  ['5d', '09', 'c2', '7a'],\n",
    "  ['29', '58', '6d', '84'],\n",
    "  ['35', 'b1', 'e7', '62']],\n",
    " [['68', '5e', 'ed', '6b'],\n",
    "  ['35', '57', '2f', '11'],\n",
    "  ['1c', '0f', '42', '95'],\n",
    "  ['29', 'be', 'a5', 'f7']],\n",
    " [['c2', '58', '85', 'ce'],\n",
    "  ['f7', '0f', 'aa', 'df'],\n",
    "  ['eb', '00', 'e8', '4a'],\n",
    "  ['c2', 'be', '4d', 'bd']],\n",
    " [['64', 'bb', 'ff', 'eb'],\n",
    "  ['93', 'b4', '55', '34'],\n",
    "  ['78', 'b4', 'bd', '7e'],\n",
    "  ['ba', '0a', 'f0', 'c3']],\n",
    " [['13', '37', 'd1', '1f'],\n",
    "  ['80', '83', '84', '2b'],\n",
    "  ['f8', '37', '39', '55'],\n",
    "  ['42', '3d', 'c9', '96']],\n",
    " [['14', 'ea', '41', '33'],\n",
    "  ['94', '69', 'c5', '18'],\n",
    "  ['6c', '5e', 'fc', '4d'],\n",
    "  ['2e', '63', '35', 'db']],\n",
    " [['af', '7c', 'f8', '02'],\n",
    "  ['3b', '15', '3d', '1a'],\n",
    "  ['57', '4b', 'c1', '57'],\n",
    "  ['79', '28', 'f4', '8c']],\n",
    " [['1b', 'c3', '9c', 'b4'],\n",
    "  ['20', 'd6', 'a1', 'ae'],\n",
    "  ['77', '9d', '60', 'f9'],\n",
    "  ['0e', 'b5', '94', '75']],\n",
    " [['d5', 'e1', '01', '1f'],\n",
    "  ['f5', '37', 'a0', 'b1'],\n",
    "  ['82', 'aa', 'c0', '48'],\n",
    "  ['8c', '1f', '54', '3d']],\n",
    " [['23', 'c1', '26', '7b'],\n",
    "  ['d6', 'f6', '86', 'ca'],\n",
    "  ['54', '5c', '46', '82'],\n",
    "  ['d8', '43', '12', 'bf']]])"
   ]
  },
  {
   "cell_type": "markdown",
   "metadata": {},
   "source": [
    "## Zadanie 6  (1 pkt.)"
   ]
  },
  {
   "cell_type": "markdown",
   "metadata": {},
   "source": [
    "Napisz funkcję $\\textit{AddRoundKey(state,subkey)}$, która do stanu dodaje podklucz. Zarówno stan jak i podklucz są tablicami 4x4 zawierającymi bajty. Bajty traktujemy jako ciągi bitów i dodajemy za pomocą alternatywy wykluczającej, tablice tych bajtów dodajemy jak macierze, element po elemencie.\n",
    "\n",
    "$$\\left[\\begin{array}{cccc}\n",
    "b_{00}&b_{01}&b_{02}&b_{03}\\\\\n",
    "b_{10}&b_{11}&b_{12}&b_{13}\\\\\n",
    "b_{20}&b_{21}&b_{22}&b_{23}\\\\\n",
    "b_{30}&b_{31}&b_{32}&b_{33}\\\\\n",
    "\\end{array}\\right]+\\left[\\begin{array}{cccc}\n",
    "k_{00}&k_{01}&k_{02}&k_{03}\\\\\n",
    "k_{10}&k_{11}&k_{12}&k_{13}\\\\\n",
    "k_{20}&k_{21}&k_{22}&k_{23}\\\\\n",
    "k_{30}&k_{31}&k_{32}&k_{33}\\\\\n",
    "\\end{array}\\right]=\\left[\\begin{array}{cccc}\n",
    "b_{00}\\oplus k_{00}&b_{01}\\oplus k_{01}&b_{02}\\oplus k_{02}&b_{03}\\oplus k_{03}\\\\\n",
    "b_{10}\\oplus k_{10}&b_{11}\\oplus k_{11}&b_{12}\\oplus k_{12}&b_{13}\\oplus k_{13}\\\\\n",
    "b_{20}\\oplus k_{20}&b_{21}\\oplus k_{21}&b_{22}\\oplus k_{22}&b_{23}\\oplus k_{23}\\\\\n",
    "b_{30}\\oplus k_{30}&b_{31}\\oplus k_{31}&b_{32}\\oplus k_{32}&b_{33}\\oplus k_{33}\\\\\n",
    "\\end{array}\\right]$$"
   ]
  },
  {
   "cell_type": "code",
   "execution_count": 45,
   "metadata": {},
   "outputs": [],
   "source": [
    "def bin2hex(bin_str,pad):\n",
    "    number = hex(int(bin_str,2)).replace('0x','')\n",
    "    pad = int(pad)\n",
    "    while len(number)<pad:\n",
    "        number = '0' + number\n",
    "        \n",
    "    #print(number)\n",
    "    return number\n",
    "\n",
    "def AddRoundKey(state,subkey):\n",
    "    state_with_subkey=[]\n",
    "    for i in range(4):\n",
    "        row=[]\n",
    "        for j in range(4):\n",
    "            res = add_GF(hex2bin(state[i][j]),hex2bin(subkey[i][j]))\n",
    "            row.append(bin2hex(res,2))\n",
    "        state_with_subkey.append(row)\n",
    "    return state_with_subkey\n"
   ]
  },
  {
   "cell_type": "code",
   "execution_count": 46,
   "metadata": {},
   "outputs": [
    {
     "name": "stdout",
     "output_type": "stream",
     "text": [
      "True\n"
     ]
    }
   ],
   "source": [
    "print(AddRoundKey([['83', '4d', 'e4', '62'],\n",
    "                   ['0a', 'd2', '57', 'c3'],\n",
    "                   ['3e', 'fb', 'fe', 'fb'],\n",
    "                   ['b5', 'c2', 'cb', '51']],\n",
    "                  [['23', 'c1', '26', '7b'],\n",
    "                   ['d6', 'f6', '86', 'ca'],\n",
    "                   ['54', '5c', '46', '82'],\n",
    "                   ['d8', '43', '12', 'bf']])==\n",
    "                  [['a0', '8c', 'c2', '19'],\n",
    "                   ['dc', '24', 'd1', '09'],\n",
    "                   ['6a', 'a7', 'b8', '79'],\n",
    "                   ['6d', '81', 'd9', 'ee']])"
   ]
  },
  {
   "cell_type": "markdown",
   "metadata": {},
   "source": [
    "## Zadanie 7  (1 pkt.)"
   ]
  },
  {
   "cell_type": "markdown",
   "metadata": {},
   "source": [
    "Napisz funkcję $\\textit{AES(msg,subkeys)}$, która szyfruje wiadomość $\\textit{msg}$ za pomocą podkluczy $\\textit{subkeys}$. Rzoważamy jedynie przypadek 128 bitowy. Użyj poprzednich funkcji zgodnie ze schematem:\n",
    "\n",
    "1. $subkeys$ uzyskujemy z funkcji $KeyExpansion$.\n",
    "2. Zamieniamy wiadomość na stan, $prepare\\_state$\n",
    "3. Runda początkowa  - dodajemy do stanu pierwszy podklucz.\n",
    "4. 9 rund, w których wykonujemy następujące operacje na stanie: SubBytes, ShiftRows, MixColumns i dodajemy kolejny podklucz\n",
    "5. Runda finalna - wykonujemy na stanie: SubBytes, ShiftRows i dodajemy kolejny podklucz\n",
    "6. Zamieniamy stan z powrotem na ciąg bitów."
   ]
  },
  {
   "cell_type": "code",
   "execution_count": 47,
   "metadata": {},
   "outputs": [],
   "source": [
    "def AES(msg,subkeys):\n",
    "    added_key = AddRoundKey(prepare_state(msg), subkeys[0])\n",
    "    for i in range(1,10):\n",
    "        sub_bytes = SubBytes(added_key)\n",
    "        shifted_rows = ShiftRows(sub_bytes)\n",
    "        mixed = MixColumns(shifted_rows)\n",
    "        added_key = AddRoundKey(mixed, subkeys[i])\n",
    "    sub_bytes = SubBytes(added_key)\n",
    "    shifted_rows = ShiftRows(sub_bytes)\n",
    "    added_key = AddRoundKey(shifted_rows, subkeys[10])\n",
    "    joined = ''.join(ele for sub in added_key for ele in sub)\n",
    "    return hex2bin(joined)\n",
    "    "
   ]
  },
  {
   "cell_type": "code",
   "execution_count": 48,
   "metadata": {},
   "outputs": [
    {
     "name": "stdout",
     "output_type": "stream",
     "text": [
      "True\n"
     ]
    }
   ],
   "source": [
    "#msg i key to zmienne z poprzednich zadań\n",
    "subkeys=KeyExpansion(key)\n",
    "print(AES(msg,subkeys)=='10011011111001010110001100111101110001011011101000011101001000001010111100001110011000010000111101111000010101011111010000001101')"
   ]
  },
  {
   "cell_type": "code",
   "execution_count": null,
   "metadata": {},
   "outputs": [],
   "source": []
  },
  {
   "cell_type": "code",
   "execution_count": null,
   "metadata": {},
   "outputs": [],
   "source": []
  }
 ],
 "metadata": {
  "kernelspec": {
   "display_name": "Python 3 (ipykernel)",
   "language": "python",
   "name": "python3"
  },
  "language_info": {
   "codemirror_mode": {
    "name": "ipython",
    "version": 3
   },
   "file_extension": ".py",
   "mimetype": "text/x-python",
   "name": "python",
   "nbconvert_exporter": "python",
   "pygments_lexer": "ipython3",
   "version": "3.9.7"
  }
 },
 "nbformat": 4,
 "nbformat_minor": 4
}
