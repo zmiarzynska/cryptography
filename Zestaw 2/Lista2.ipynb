{
 "cells": [
  {
   "cell_type": "markdown",
   "metadata": {},
   "source": [
    "# Lista 2 (7 pkt.)"
   ]
  },
  {
   "cell_type": "code",
   "execution_count": 62,
   "metadata": {},
   "outputs": [],
   "source": [
    "import string\n",
    "from PIL import Image\n",
    "import numpy as np\n",
    "import matplotlib.pyplot as plt\n",
    "from matplotlib.colors import LogNorm"
   ]
  },
  {
   "cell_type": "markdown",
   "metadata": {},
   "source": [
    "## Zadanie 1. (1 pkt)\n",
    "To zadanie należy wykonać ręcznie, bez używania komputera, korzystając z instrukcji z wykładu. Zaszyfruj wiadomość o treści: \"NEW 15 HELICOPTERS.\", za pomocą klucza: 68496 47757 10126 36660 25066. Do słów, które są tabeli poniżej użyj odpowiednio ich kodów. Uwaga: w wiadomości jest liczba mnoga \"helicopterS\"."
   ]
  },
  {
   "cell_type": "markdown",
   "metadata": {},
   "source": [
    "\n",
    "$\\begin{array}{|c|c|c|c|c|c|c|c|c|c|}\n",
    "\\hline\n",
    "CODE&A&E&I&N&O&T&&\\\\\n",
    "0&1&2&3&4&5&6&&&\\\\\n",
    "\\hline\n",
    "B&C&D&F&G&H&J&K&L&M\\\\\n",
    "70&71&72&73&74&75&76&77&78&79\\\\\n",
    "\\hline\n",
    "P&Q&R&S&U&V&W&X&Y&Z\\\\\n",
    "80&81&82&83&84&85&86&87&88&89\\\\\n",
    "\\hline\n",
    "FIG&.&:&,/'&(/)&+&-&=&REG/?&SPC\\\\\n",
    "90&91&92&93&94&95&96&97&98&99\\\\\n",
    "\\hline\n",
    "\\end{array}$"
   ]
  },
  {
   "cell_type": "markdown",
   "metadata": {},
   "source": [
    "$\\begin{array}{|cc|cc|cc|cc|}\n",
    "\\hline\n",
    "000&ABORT&253&DECODE&505&MILITARY&758&STREET\\\\\n",
    "\\hline\n",
    "019&ACCEPT&262&DELAY&514&MONEY&767&SUBWAY\\\\\n",
    "\\hline\n",
    "028&ACCESS&271&DIFFICULT&523&MONTH&776&SUCCESS\\\\\n",
    "\\hline\n",
    "037&ADDRESS&280&DOCUMENT&532&MORNING&785&SUPPLY\\\\\n",
    "\\hline\n",
    "046&AFFIRMATIVE&299&ENCODE&541&MORSE&794&SUPPORT\\\\\n",
    "\\hline\n",
    "055&AGENT&307&EVENING&550&NEGATIVE&802&TELEPHONE\\\\\n",
    "\\hline\n",
    "064&AIRPLANE&316&EXECUTE&569&NIGHT&811&TODAY\\\\\n",
    "\\hline\n",
    "073&AIRPORT&325&FACTORY&578&OBSERVATION&820&TOMORROW\\\\\n",
    "\\hline\n",
    "082&ANSWER&334&FAILED&587&PASSPORT&839&TRAIN\\\\\n",
    "\\hline\n",
    "091&AUTHORITY&343&FERRY&596&PERSON&848&TRANSFER\\\\\n",
    "\\hline\n",
    "109&BETWEEN&352&FLIGHT&604&PHOTOGRAPH&857&TRANSMIT\\\\\n",
    "\\hline\n",
    "118&BORDER&361&FREQUENCY&613&POSITIVE&866&TRAVEL\\\\\n",
    "\\hline\n",
    "127&BUILDING&370&HARBOUR&622&POSSIBLE&875&TRUCK\\\\\n",
    "\\hline\n",
    "136&CANCEL&389&HELICOPTER&631&POWER&884&UNABLE TO\\\\\n",
    "\\hline\n",
    "145&CHANGE&398&HIGHWAY&640&PRIORITY&893&URGENT\\\\\n",
    "\\hline\n",
    "154&CIVILIAN&406&IDENTITY&659&PROBLEM&901&VERIFY\\\\\n",
    "\\hline\n",
    "163&COMPROMISE&415&IMMEDIATE&668&QUESTION&910&WEEK\\\\\n",
    "\\hline\n",
    "172&COMPUTER&424&IMPOSSIBLE&677&RADIO&929&WITHIN\\\\\n",
    "\\hline\n",
    "181&CONFIRM&433&INFORMATION&686&RECEIVE&938&YESTERDAY\\\\\n",
    "\\hline\n",
    "190&CONTACT&442&INSTRUCTIONS&695&RENDEZVOUS&&\\\\\n",
    "\\hline\n",
    "208&COORDINATE&451&LOCATE&703&REPEAT&&\\\\\n",
    "\\hline\n",
    "217&COUNTRY&460&LOCATION&712&RESERVATION&&\\\\\n",
    "\\hline\n",
    "226&COVERT&479&MAIL&721&ROUTINE&\\\\\n",
    "\\hline\n",
    "235&CURRENT&488&MEETING&730&SATELLITE&\\\\\n",
    "\\hline\n",
    "244&DANGER&497&MESSAGE&749&SHIP&\\\\\n",
    "\\hline\n",
    "\\end{array}$"
   ]
  },
  {
   "cell_type": "markdown",
   "metadata": {},
   "source": [
    "## Zadanie 2 (1 pkt)\n",
    "To zadanie również jest do zrobienia ręcznie. Na stronie internetowej kursu akapit tekstu w sekcji \"Wykład\" oraz akapit w sekcji \"Labolatorium\" zawiera wiadomość zakodowaną metodą WPS (Words Per Sentence). Odkoduj ją przy użyciu klucza otrzymanego na zajęciach."
   ]
  },
  {
   "cell_type": "markdown",
   "metadata": {},
   "source": [
    "## Zadanie 3. (1 pkt)\n",
    "Wczytaj obrazki 'miki.png' oraz 'quest.png'."
   ]
  },
  {
   "cell_type": "code",
   "execution_count": 63,
   "metadata": {},
   "outputs": [
    {
     "data": {
      "image/png": "[encoded data removed]",
      "text/plain": [
       "<PIL.Image.Image image mode=L size=200x207 at 0x20B72D0C0A0>"
      ]
     },
     "execution_count": 63,
     "metadata": {},
     "output_type": "execute_result"
    }
   ],
   "source": [
    "img1 = Image.open('miki.png').convert('L')\n",
    "img1"
   ]
  },
  {
   "cell_type": "code",
   "execution_count": 64,
   "metadata": {},
   "outputs": [
    {
     "data": {
      "image/png": "[encoded data removed]",
      "text/plain": [
       "<PIL.Image.Image image mode=L size=200x207 at 0x20B72C69580>"
      ]
     },
     "execution_count": 64,
     "metadata": {},
     "output_type": "execute_result"
    }
   ],
   "source": [
    "img2 = Image.open('quest.png').convert('L')\n",
    "img2"
   ]
  },
  {
   "cell_type": "code",
   "execution_count": 65,
   "metadata": {},
   "outputs": [
    {
     "name": "stdout",
     "output_type": "stream",
     "text": [
      "207\n",
      "207\n",
      "200\n"
     ]
    }
   ],
   "source": [
    "img_1 = np.array(img1, dtype=np.uint8)\n",
    "print(len(img_1))\n",
    "height = img1.height\n",
    "width = img1.width \n",
    "print(height)\n",
    "print(width)\n"
   ]
  },
  {
   "cell_type": "code",
   "execution_count": 66,
   "metadata": {},
   "outputs": [],
   "source": [
    "def add_pic(img1, img2):\n",
    "    sum_pic = np.bitwise_xor(np.array(img1),np.array(img2))\n",
    "    sum_pic = Image.fromarray(np.array(sum_pic, dtype=np.uint8))\n",
    "    return sum_pic"
   ]
  },
  {
   "cell_type": "code",
   "execution_count": 67,
   "metadata": {},
   "outputs": [
    {
     "data": {
      "image/png": "[encoded data removed]",
      "text/plain": [
       "<PIL.Image.Image image mode=L size=200x207 at 0x20B72CC68E0>"
      ]
     },
     "execution_count": 67,
     "metadata": {},
     "output_type": "execute_result"
    }
   ],
   "source": [
    "add_pic(img1,img2)"
   ]
  },
  {
   "cell_type": "markdown",
   "metadata": {},
   "source": [
    "Napisz funkcję add_pic(img1, img2), która przyjmuje dwa obrazki i je dodaje piksel po pikselu za pomocą XOR, czyli biały+biały=czarny, biały+czarny=biały, czarny+czarny=czarny. Warto wykorzystać to, że np.array(img) zwraca tablicę, z wartościami 255 dla białych pikseli i 0 dla czarnych, aby zamienić tablicę z powrotem na obraz należy użyc Image.fromarray() przy czym tablica musi być typu np.uint8 czyli na tworząc tablicę podajemy typ: np.array([1,2,3,4], dtype=np.uint8). Funkcja ma zwracać obrazek."
   ]
  },
  {
   "cell_type": "markdown",
   "metadata": {},
   "source": [
    "Wygeneruj (pseudo)losowy klucz, czyli obrazek z losowymi białymi i czarnymi pikselami, użyj np.random. Następnie zaszyfruj tym kluczem, za pomocą add_pic, oba obrazki img1 i img2. Zauważ, że oba obrazki wyglądają na dobrze zaszyfrowane, zobacz jednak co się wydarzy kiedy dodasz do siebie te zaszyfrowane obrazki."
   ]
  },
  {
   "cell_type": "code",
   "execution_count": 68,
   "metadata": {},
   "outputs": [],
   "source": [
    "size = (height,width)\n",
    "\n",
    "random_key = np.stack([np.random.randint(low=0, high=255, size=size[1]) for x in range(size[0])])\n"
   ]
  },
  {
   "cell_type": "code",
   "execution_count": 69,
   "metadata": {
    "scrolled": true
   },
   "outputs": [
    {
     "data": {
      "image/png": "[encoded data removed]",
      "text/plain": [
       "<PIL.Image.Image image mode=L size=200x207 at 0x20B72CC6B80>"
      ]
     },
     "execution_count": 69,
     "metadata": {},
     "output_type": "execute_result"
    }
   ],
   "source": [
    "Image.fromarray(np.array(random_key, dtype=np.uint8))"
   ]
  },
  {
   "cell_type": "code",
   "execution_count": 70,
   "metadata": {},
   "outputs": [
    {
     "data": {
      "image/png": "[encoded data removed]",
      "text/plain": [
       "<PIL.Image.Image image mode=L size=200x207 at 0x20B72D1AF40>"
      ]
     },
     "execution_count": 70,
     "metadata": {},
     "output_type": "execute_result"
    }
   ],
   "source": [
    "encrypted_img1 = add_pic(img1,random_key)\n",
    "encrypted_img1"
   ]
  },
  {
   "cell_type": "code",
   "execution_count": 71,
   "metadata": {},
   "outputs": [
    {
     "data": {
      "image/png": "[encoded data removed]",
      "text/plain": [
       "<PIL.Image.Image image mode=L size=200x207 at 0x20B5AA4FAC0>"
      ]
     },
     "execution_count": 71,
     "metadata": {},
     "output_type": "execute_result"
    }
   ],
   "source": [
    "encrypted_img2 = add_pic(img2,random_key)\n",
    "encrypted_img2"
   ]
  },
  {
   "cell_type": "code",
   "execution_count": 72,
   "metadata": {},
   "outputs": [
    {
     "data": {
      "image/png": "[encoded data removed]",
      "text/plain": [
       "<PIL.Image.Image image mode=L size=200x207 at 0x20B72D1AF10>"
      ]
     },
     "execution_count": 72,
     "metadata": {},
     "output_type": "execute_result"
    }
   ],
   "source": [
    "add_pic(encrypted_img1, encrypted_img2)"
   ]
  },
  {
   "cell_type": "markdown",
   "metadata": {},
   "source": [
    "## Zadanie 4 (2 pkt.)\n",
    "Zmienne msg1_enc oraz msg2_enc zawierają dwie zaszyfrowane wiadomości, w jezyku angielskim."
   ]
  },
  {
   "cell_type": "code",
   "execution_count": 73,
   "metadata": {},
   "outputs": [],
   "source": [
    "msg1_enc = '\\x1e\\x17\\x0c\\x12\\x1b\\x08\\x0cf\\x0e\\x11x\\x1a\\x1c\\x12o\\x06\\x18\\x1f\\x17\\x03\\x10\\x01fkh\\x1f\\x08'\n",
    "msg2_enc = '\\x0b\\ni\\x07\\x1c\\x02k\\x1f\\x16e\\x01\\x0b\\x07\\x03\\n\\x15\\x15\\x0c\\x1el\\x07\\x03\\x03\\x16\\x01\\x01\\x02'"
   ]
  },
  {
   "cell_type": "code",
   "execution_count": 74,
   "metadata": {},
   "outputs": [],
   "source": [
    "msg1 = msg1_enc\n",
    "msg2 = msg2_enc"
   ]
  },
  {
   "cell_type": "code",
   "execution_count": 75,
   "metadata": {},
   "outputs": [
    {
     "name": "stdout",
     "output_type": "stream",
     "text": [
      "[30, 23, 12, 18, 27, 8, 12, 102, 14, 17, 120, 26, 28, 18, 111, 6, 24, 31, 23, 3, 16, 1, 102, 107, 104, 31, 8]\n"
     ]
    }
   ],
   "source": [
    "msg1tab = [ord(c) for c in msg1]\n",
    "print(msg1tab)"
   ]
  },
  {
   "cell_type": "code",
   "execution_count": 76,
   "metadata": {},
   "outputs": [
    {
     "name": "stdout",
     "output_type": "stream",
     "text": [
      "[11, 10, 105, 7, 28, 2, 107, 31, 22, 101, 1, 11, 7, 3, 10, 21, 21, 12, 30, 108, 7, 3, 3, 22, 1, 1, 2]\n"
     ]
    }
   ],
   "source": [
    "msg2tab = [ord(c) for c in msg2]\n",
    "print(msg2tab)"
   ]
  },
  {
   "cell_type": "code",
   "execution_count": 77,
   "metadata": {},
   "outputs": [
    {
     "name": "stdout",
     "output_type": "stream",
     "text": [
      "[21, 29, 101, 21, 7, 10, 101, 121, 24, 116, 121, 17, 27, 21, 101, 19, 13, 19, 29, 111, 23, 2, 121, 125, 105, 19, 10]\n"
     ]
    }
   ],
   "source": [
    "new_no = []\n",
    "for number in msg1tab:\n",
    "    ind = msg1tab.index(number)\n",
    "    new_no.append(number ^ msg2tab[ind])\n",
    "print(new_no)\n",
    "    "
   ]
  },
  {
   "cell_type": "code",
   "execution_count": 78,
   "metadata": {},
   "outputs": [
    {
     "name": "stdout",
     "output_type": "stream",
     "text": [
      "['\\x15', '\\x1d', 'e', '\\x15', '\\x07', '\\n', 'e', 'y', '\\x18', 't', 'y', '\\x11', '\\x1b', '\\x15', 'e', '\\x13', '\\r', '\\x13', '\\x1d', 'o', '\\x17', '\\x02', 'y', '}', 'i', '\\x13', '\\n']\n"
     ]
    }
   ],
   "source": [
    "tab = [chr(no) for no in new_no]\n",
    "print(tab)"
   ]
  },
  {
   "cell_type": "code",
   "execution_count": 79,
   "metadata": {},
   "outputs": [],
   "source": [
    "new_msg = ''.join(tab)"
   ]
  },
  {
   "cell_type": "markdown",
   "metadata": {},
   "source": [
    "Wiadomo, że zostały zaszyfrowane tym samym kluczem, możemy to wykorzystać do odszyfrowania ich. W tym zadaniu konwencja zamiany liter na liczby i ich dodawania jest inna, niż w poprzednich. Znaki zamieniamy na liczby kodujące te znaki w Unicode, czyli za pomocą ord(), następnie dodajemy je do siebie za pomocą XOR na poziomie bitów, czyli za pomocą ^. Napisz funkcję add_str(msg1, msg2), które przyjmuje dwa teksty i zwraca tekst będący sumą tych tekstóœ zgodnie z powyższą konwencją."
   ]
  },
  {
   "cell_type": "code",
   "execution_count": 80,
   "metadata": {},
   "outputs": [],
   "source": [
    "def add_str(msg1, msg2):\n",
    "    code = zip([ord(c) for c in msg1], [ord(c) for c in msg2])\n",
    "    added_str = ''.join([chr(c1 ^ c2) for c1,c2 in code])\n",
    "    return added_str"
   ]
  },
  {
   "cell_type": "code",
   "execution_count": 81,
   "metadata": {},
   "outputs": [
    {
     "data": {
      "text/plain": [
       "'\\x15\\x1de\\x15\\x07\\ngy\\x18ty\\x11\\x1b\\x11e\\x13\\r\\x13\\to\\x17\\x02e}i\\x1e\\n'"
      ]
     },
     "execution_count": 81,
     "metadata": {},
     "output_type": "execute_result"
    }
   ],
   "source": [
    "add_str(msg1_enc,msg2_enc)"
   ]
  },
  {
   "cell_type": "markdown",
   "metadata": {},
   "source": [
    "\n",
    "Zauważmy, że jeżeli dwie wiadomości są zaszyfrowane tym samym kluczem to dodanie ich do siebie sprawia, że dostaniemy sumę wiadomosći bez klucza. Poza tym zauważmy, że jeżeli znamy jakieś słowo występujące w którejś z wiadomości i je dodamy do sumy tych wiadomości w odpowiednim miejscu to w wyniku dostaniemy poprawne słowo z drugiej wiadomości. Zatem metoda łamania tych wiadomości jest następująca, zgadujemy jakie słow może być w którejś z wiadomości, dodajemy je w różnych miejscach sumy wiadomości i patrzymy czy powstaje coś co może być fragmentem poprawnego tekstu, następnie na podstawie tego fragmentu zgadujemy większą pozostałą część słowa i teraz to słowo używamy do odczytania kolejnego fragmentu z pierwszej wiadomości.\n",
    "\n",
    "Pierwsze słowo wybieramy z pośród najpopularniejszych słów w danym języku.\n",
    "\n",
    "Najpopularniejsze angielskie słowa:\n",
    "1. THE\n",
    "2. BE\n",
    "3. TO\n",
    "4. OF\n",
    "5. AND\n",
    "\n",
    "Uwaga 1: Słowa zapisane są drukowanymi literami.\n",
    "\n",
    "Uwaga 2: Słowa oddzialane są spacjami, zatem biorąc np. słowo THE należy sprawdzać ciąg znaków \"&nbsp; THE &nbsp;\", ze spacjami na początku i końcu, dzięki temu odszyfrujemy więcej znaków."
   ]
  },
  {
   "cell_type": "code",
   "execution_count": 82,
   "metadata": {},
   "outputs": [
    {
     "name": "stdout",
     "output_type": "stream",
     "text": [
      "\u0015\u001d",
      "e\u0015\u0007\n",
      "gy\u0018ty\u0011\u001b\u0011e\u0013\r",
      "\u0013\to\u0017\u0002e}i\u001e",
      "\n",
      "\n",
      "Word to be found THE \n",
      "i= 0\n",
      "5I-P'\n",
      "i= 1\n",
      "=1]B*\n",
      "i= 2\n",
      "EAOOG\n",
      "i= 3\n",
      "5SB\"Y\n",
      "i= 4\n",
      "'^/<8\n",
      "i= 5\n",
      "*31]T\n",
      "i= 6\n",
      "G-P1Y\n",
      "i= 7\n",
      "YL<<1\n",
      "i= 8\n",
      "8 1T;\n",
      "i= 9\n",
      "T-Y^1\n",
      "i= 10\n",
      "YESTE\n",
      "i= 11\n",
      "1OY 3\n",
      "i= 12\n",
      ";E-V-\n",
      "i= 13\n",
      "11[H3\n",
      "i= 14\n",
      "EGEV)\n",
      "i= 15\n",
      "3Y[LO\n",
      "i= 16\n",
      "-GA*7\n",
      "i= 17\n",
      "3]'R\"\n",
      "i= 18\n",
      ");_GE\n",
      "i= 19\n",
      "OCJ ]\n",
      "i= 20\n",
      "7V-8I\n",
      "i= 21\n",
      "\"15,>\n",
      "i= 22\n",
      "E)![*\n",
      "i= 23\n",
      "]=VO\n",
      "i= 24\n",
      "IJB\n",
      "i= 25\n",
      ">^\n",
      "i= 26\n",
      "*\n",
      "Word to be found BE \n",
      "i= 0\n",
      "5_ 5\n",
      "i= 1\n",
      "='P'\n",
      "i= 2\n",
      "EWB*\n",
      "i= 3\n",
      "5EOG\n",
      "i= 4\n",
      "'H\"Y\n",
      "i= 5\n",
      "*%<8\n",
      "i= 6\n",
      "G;]T\n",
      "i= 7\n",
      "YZ1Y\n",
      "i= 8\n",
      "86<1\n",
      "i= 9\n",
      "T;T;\n",
      "i= 10\n",
      "YS^1\n",
      "i= 11\n",
      "1YTE\n",
      "i= 12\n",
      ";S 3\n",
      "i= 13\n",
      "1'V-\n",
      "i= 14\n",
      "EQH3\n",
      "i= 15\n",
      "3OV)\n",
      "i= 16\n",
      "-QLO\n",
      "i= 17\n",
      "3K*7\n",
      "i= 18\n",
      ")-R\"\n",
      "i= 19\n",
      "OUGE\n",
      "i= 20\n",
      "7@ ]\n",
      "i= 21\n",
      "\"'8I\n",
      "i= 22\n",
      "E?,>\n",
      "i= 23\n",
      "]+[*\n",
      "i= 24\n",
      "I\\O\n",
      "i= 25\n",
      ">H\n",
      "i= 26\n",
      "*\n",
      "Word to be found TO \n",
      "i= 0\n",
      "5I*5\n",
      "i= 1\n",
      "=1Z'\n",
      "i= 2\n",
      "EAH*\n",
      "i= 3\n",
      "5SEG\n",
      "i= 4\n",
      "'^(Y\n",
      "i= 5\n",
      "*368\n",
      "i= 6\n",
      "G-WT\n",
      "i= 7\n",
      "YL;Y\n",
      "i= 8\n",
      "8 61\n",
      "i= 9\n",
      "T-^;\n",
      "i= 10\n",
      "YET1\n",
      "i= 11\n",
      "1O^E\n",
      "i= 12\n",
      ";E*3\n",
      "i= 13\n",
      "11\\-\n",
      "i= 14\n",
      "EGB3\n",
      "i= 15\n",
      "3Y\\)\n",
      "i= 16\n",
      "-GFO\n",
      "i= 17\n",
      "3] 7\n",
      "i= 18\n",
      ");X\"\n",
      "i= 19\n",
      "OCME\n",
      "i= 20\n",
      "7V*]\n",
      "i= 21\n",
      "\"12I\n",
      "i= 22\n",
      "E)&>\n",
      "i= 23\n",
      "]=Q*\n",
      "i= 24\n",
      "IJE\n",
      "i= 25\n",
      ">^\n",
      "i= 26\n",
      "*\n",
      "Word to be found OF \n",
      "i= 0\n",
      "5R#5\n",
      "i= 1\n",
      "=*S'\n",
      "i= 2\n",
      "EZA*\n",
      "i= 3\n",
      "5HLG\n",
      "i= 4\n",
      "'E!Y\n",
      "i= 5\n",
      "*(?8\n",
      "i= 6\n",
      "G6^T\n",
      "i= 7\n",
      "YW2Y\n",
      "i= 8\n",
      "8;?1\n",
      "i= 9\n",
      "T6W;\n",
      "i= 10\n",
      "Y^]1\n",
      "i= 11\n",
      "1TWE\n",
      "i= 12\n",
      ";^#3\n",
      "i= 13\n",
      "1*U-\n",
      "i= 14\n",
      "E\\K3\n",
      "i= 15\n",
      "3BU)\n",
      "i= 16\n",
      "-\\OO\n",
      "i= 17\n",
      "3F)7\n",
      "i= 18\n",
      ") Q\"\n",
      "i= 19\n",
      "OXDE\n",
      "i= 20\n",
      "7M#]\n",
      "i= 21\n",
      "\"*;I\n",
      "i= 22\n",
      "E2/>\n",
      "i= 23\n",
      "]&X*\n",
      "i= 24\n",
      "IQL\n",
      "i= 25\n",
      ">E\n",
      "i= 26\n",
      "*\n",
      "Word to be found AND \n",
      "i= 0\n",
      "5\\+Q'\n",
      "i= 1\n",
      "=$[C*\n",
      "i= 2\n",
      "ETING\n",
      "i= 3\n",
      "5FD#Y\n",
      "i= 4\n",
      "'K)=8\n",
      "i= 5\n",
      "*&7\\T\n",
      "i= 6\n",
      "G8V0Y\n",
      "i= 7\n",
      "YY:=1\n",
      "i= 8\n",
      "857U;\n",
      "i= 9\n",
      "T8__1\n",
      "i= 10\n",
      "YPUUE\n",
      "i= 11\n",
      "1Z_!3\n",
      "i= 12\n",
      ";P+W-\n",
      "i= 13\n",
      "1$]I3\n",
      "i= 14\n",
      "ERCW)\n",
      "i= 15\n",
      "3L]MO\n",
      "i= 16\n",
      "-RG+7\n",
      "i= 17\n",
      "3H!S\"\n",
      "i= 18\n",
      ").YFE\n",
      "i= 19\n",
      "OVL!]\n",
      "i= 20\n",
      "7C+9I\n",
      "i= 21\n",
      "\"$3->\n",
      "i= 22\n",
      "E<'Z*\n",
      "i= 23\n",
      "](PN\n",
      "i= 24\n",
      "I_D\n",
      "i= 25\n",
      ">K\n",
      "i= 26\n",
      "*\n",
      "Word to be found MEETING \n",
      "i= 0\n",
      "5P PSC)>8\n",
      "i= 1\n",
      "=(PB^.7_T\n",
      "i= 2\n",
      "EXBO30V3Y\n",
      "i= 3\n",
      "5JO\"-Q:>1\n",
      "i= 4\n",
      "'G\"<L=7V;\n",
      "i= 5\n",
      "**<] 0_\\1\n",
      "i= 6\n",
      "G4]1-XUVE\n",
      "i= 7\n",
      "YU1<ER_\"3\n",
      "i= 8\n",
      "89<TOX+T-\n",
      "i= 9\n",
      "T4T^E,]J3\n",
      "i= 10\n",
      "Y\\^T1ZCT)\n",
      "i= 11\n",
      "1VT GD]NO\n",
      "i= 12\n",
      ";\\ VYZG(7\n",
      "i= 13\n",
      "1(VHG@!P\"\n",
      "i= 14\n",
      "E^HV]&YEE\n",
      "i= 15\n",
      "3@VL;^L\"]\n",
      "i= 16\n",
      "-^L*CK+:I\n",
      "i= 17\n",
      "3D*RV,3.>\n",
      "i= 18\n",
      ")\"RG14'Y*\n",
      "i= 19\n",
      "OZG ) PM\n",
      "i= 20\n",
      "7O 8=WD\n",
      "i= 21\n",
      "\"(8,JC\n",
      "i= 22\n",
      "E0,[^\n",
      "i= 23\n",
      "]$[O\n",
      "i= 24\n",
      "ISO\n",
      "i= 25\n",
      ">G\n",
      "i= 26\n",
      "*\n",
      "Word to be found YESTERDAY \n",
      "i= 0\n",
      "5D FSO5=Y-Y\n",
      "i= 1\n",
      "=<PT^\"+\\5 1\n",
      "i= 2\n",
      "ELBY3<J08H;\n",
      "i= 3\n",
      "5^O4-]&=PB1\n",
      "i= 4\n",
      "'S\"*L1+UZHE\n",
      "i= 5\n",
      "*><K <C_P<3\n",
      "i= 6\n",
      "G ]'-TIU$J-\n",
      "i= 7\n",
      "YA1*E^C!RT3\n",
      "i= 8\n",
      "8-<BOT7WLJ)\n",
      "i= 9\n",
      "T THE AIRPO\n",
      "i= 10\n",
      "YH^B1V_WH67\n",
      "i= 11\n",
      "1BT6GHAM.N\"\n",
      "i= 12\n",
      ";H @YV[+V[E\n",
      "i= 13\n",
      "1<V^GL=SC<]\n",
      "i= 14\n",
      "EJH@]*EF$$I\n",
      "i= 15\n",
      "3TVZ;RP!<0>\n",
      "i= 16\n",
      "-JL<CG79(G*\n",
      "i= 17\n",
      "3P*DV /-_S\n",
      "i= 18\n",
      ")6RQ18;ZK\n",
      "i= 19\n",
      "ONG6),LN\n",
      "i= 20\n",
      "7[ .=[X\n",
      "i= 21\n",
      "\"<8:JO\n",
      "i= 22\n",
      "E$,M^\n",
      "i= 23\n",
      "]0[Y\n",
      "i= 24\n",
      "IGO\n",
      "i= 25\n",
      ">S\n",
      "i= 26\n",
      "*\n",
      "Word to be found AT THE AIRPORT \n",
      "i= 0\n",
      "5\\15SB\"YY=+ATC13\n",
      "i= 1\n",
      "=$A'^/<850CK^7G-\n",
      "i= 2\n",
      "ETS*31]T8XIA*AY3\n",
      "i= 3\n",
      "5F^G-P1YPRC5\\_G)\n",
      "i= 4\n",
      "'K3YL<<1ZX7CBA]O\n",
      "i= 5\n",
      "*&-8 1T;P,A]\\[;7\n",
      "i= 6\n",
      "G8LT-Y^1$Z_CF=C\"\n",
      "i= 7\n",
      "YY YESTERDAY EVE\n",
      "i= 8\n",
      "85-1OY 3LZ[?XP1]\n",
      "i= 9\n",
      "T8E;E-V-R@=GM7)I\n",
      "i= 10\n",
      "YPO11[H3H&ER*/=>\n",
      "i= 11\n",
      "1ZEEGEV).^P52;J*\n",
      "i= 12\n",
      ";P13Y[LOVK7-&L^\n",
      "i= 13\n",
      "1$G-GA*7C,/9QX\n",
      "i= 14\n",
      "ERY3]'R\"$4;NE\n",
      "i= 15\n",
      "3LG);_GE< LZ\n",
      "i= 16\n",
      "-R]OCJ ](WX\n",
      "i= 17\n",
      "3H;7V-8I_C\n",
      "i= 18\n",
      ").C\"15,>K\n",
      "i= 19\n",
      "OVVE)![*\n",
      "i= 20\n",
      "7C1]=VO\n",
      "i= 21\n",
      "\"$)IJB\n",
      "i= 22\n",
      "E<=>^\n",
      "i= 23\n",
      "](J*\n",
      "i= 24\n",
      "I_^\n",
      "i= 25\n",
      ">K\n",
      "i= 26\n",
      "*\n",
      "Word to be found PM \n",
      "i= 0\n",
      "5M(5\n",
      "i= 1\n",
      "=5X'\n",
      "i= 2\n",
      "EEJ*\n",
      "i= 3\n",
      "5WGG\n",
      "i= 4\n",
      "'Z*Y\n",
      "i= 5\n",
      "*748\n",
      "i= 6\n",
      "G)UT\n",
      "i= 7\n",
      "YH9Y\n",
      "i= 8\n",
      "8$41\n",
      "i= 9\n",
      "T)\\;\n",
      "i= 10\n",
      "YAV1\n",
      "i= 11\n",
      "1K\\E\n",
      "i= 12\n",
      ";A(3\n",
      "i= 13\n",
      "15^-\n",
      "i= 14\n",
      "EC@3\n",
      "i= 15\n",
      "3]^)\n",
      "i= 16\n",
      "-CDO\n",
      "i= 17\n",
      "3Y\"7\n",
      "i= 18\n",
      ")?Z\"\n",
      "i= 19\n",
      "OGOE\n",
      "i= 20\n",
      "7R(]\n",
      "i= 21\n",
      "\"50I\n",
      "i= 22\n",
      "E-$>\n",
      "i= 23\n",
      "]9S*\n",
      "i= 24\n",
      "ING\n",
      "i= 25\n",
      ">Z\n",
      "i= 26\n",
      "*\n",
      "Word to be foundMEETING AT THE AIRPORT\n",
      "i= 0\n",
      "XX AND YY YESTERDAY EV\n",
      "i= 1\n",
      "P PSC)>85-1OY 3LZ[?XP1\n",
      "i= 2\n",
      "(PB^.7_T8E;E-V-R@=GM7)\n",
      "i= 3\n",
      "XBO30V3YPO11[H3H&ER*/=\n",
      "i= 4\n",
      "JO\"-Q:>1ZEEGEV).^P52;J\n",
      "i= 5\n",
      "G\"<L=7V;P13Y[LOVK7-&L^\n",
      "i= 6\n",
      "*<] 0_\\1$G-GA*7C,/9QX\n",
      "i= 7\n",
      "4]1-XUVERY3]'R\"$4;NE\n",
      "i= 8\n",
      "U1<ER_\"3LG);_GE< LZ\n",
      "i= 9\n",
      "9<TOX+T-R]OCJ ](WX\n",
      "i= 10\n",
      "4T^E,]J3H;7V-8I_C\n",
      "i= 11\n",
      "\\^T1ZCT).C\"15,>K\n",
      "i= 12\n",
      "VT GD]NOVVE)![*\n",
      "i= 13\n",
      "\\ VYZG(7C1]=VO\n",
      "i= 14\n",
      "(VHG@!P\"$)IJB\n",
      "i= 15\n",
      "^HV]&YEE<=>^\n",
      "i= 16\n",
      "@VL;^L\"](J*\n",
      "i= 17\n",
      "^L*CK+:I_^\n",
      "i= 18\n",
      "D*RV,3.>K\n",
      "i= 19\n",
      "\"RG14'Y*\n",
      "i= 20\n",
      "ZG ) PM\n",
      "i= 21\n",
      "O 8=WD\n",
      "i= 22\n",
      "(8,JC\n",
      "i= 23\n",
      "0,[^\n",
      "i= 24\n",
      "$[O\n",
      "i= 25\n",
      "SO\n",
      "i= 26\n",
      "G\n",
      "Word to be foundXX AND YY YESTERDAY EVENING\n",
      "i= 0\n",
      "MEETING AT THE AIRPORT 3 PM\n",
      "i= 1\n",
      "E=5FD#YA-YH^B1V_WH67G38'WD\n",
      "i= 2\n",
      "=M'K)=8- 1BT6GHAM.N\" +,PC\n",
      "i= 3\n",
      "M_*&7\\T H;H @YV[+V[E8?[D\n",
      "i= 4\n",
      "_RG8V0YHB1<V^GL=SC<],HO\n",
      "i= 5\n",
      "R?YY:=1BHEJH@]*EF$$I[\\\n",
      "i= 6\n",
      "?!857U;H<3TVZ;RP!<0>O\n",
      "i= 7\n",
      "!@T8__1<J-JL<CG79(G*\n",
      "i= 8\n",
      "@,YPUUEJT3P*DV /-_S\n",
      "i= 9\n",
      ",!1Z_!3TJ)6RQ18;ZK\n",
      "i= 10\n",
      "!I;P+W-JPONG6),LN\n",
      "i= 11\n",
      "IC1$]I3P67[ .=[X\n",
      "i= 12\n",
      "CIERCW)6N\"<8:JO\n",
      "i= 13\n",
      "I=3L]MON[E$,M^\n",
      "i= 14\n",
      "=K-RG+7[<]0[Y\n",
      "i= 15\n",
      "KU3H!S\"<$IGO\n",
      "i= 16\n",
      "UK).YFE$0>S\n",
      "i= 17\n",
      "KQOVL!]0G*\n",
      "i= 18\n",
      "Q77C+9IGS\n",
      "i= 19\n",
      "7O\"$3->S\n",
      "i= 20\n",
      "OZE<'Z*\n",
      "i= 21\n",
      "Z=](PN\n",
      "i= 22\n",
      "=%I_D\n",
      "i= 23\n",
      "%1>K\n",
      "i= 24\n",
      "1F*\n",
      "i= 25\n",
      "FR\n",
      "i= 26\n",
      "R\n",
      "\n",
      "\n",
      "\n",
      "True\n"
     ]
    }
   ],
   "source": [
    "enc_sum = add_str(msg1_enc,msg2_enc)\n",
    "print(enc_sum)\n",
    "words = [\" THE \", \" BE \", \" TO \", \" OF \", \" AND \", \" MEETING \", \" YESTERDAY \", \" AT THE AIRPORT \", \" PM \", \"MEETING AT THE AIRPORT\", \"XX AND YY YESTERDAY EVENING\"]\n",
    "\n",
    "for word in words:\n",
    "    print(f\"Word to be found{word}\")\n",
    "    for i in range(len(enc_sum)):\n",
    "        print(\"i=\",i)\n",
    "        res = add_str(enc_sum[i:i+len(word)], word)\n",
    "        print(res)\n",
    "\n",
    "print(\"\\n\\n\")\n",
    "\n",
    "dictionary = {\" THE \":\" YESTE \", \" AND \":\" ETING \",\"YESTERDAY\":\"T THE AIRPO\", \" MEETING \":\"\"}\n",
    "              \n",
    "decrypted_msg1 = \"MEETING AT THE AIRPORT 3 PM\"\n",
    "decrypted_msg2 = \"XX AND YY YESTERDAY EVENING\"\n",
    "\n",
    "print(add_str(decrypted_msg1,decrypted_msg2) == enc_sum)"
   ]
  },
  {
   "cell_type": "markdown",
   "metadata": {},
   "source": [
    "## Zadanie 5 (2 pkt.)"
   ]
  },
  {
   "cell_type": "markdown",
   "metadata": {},
   "source": [
    "W poprzednim zadaniu korzystaliśmu z faktu, że obie wiadomości były zaszyfrowane przy użyciu tego samego klucza. Jednka w praktyce nie wiemy, które i czy w ogóle, wiadomosci były zaszyfrowane przy użyciu tego samego klucza. Możemy to wykryć dokonując analizy statystycznej. Załóżmy, że dodajemy do siebie dwie wiadomości zaszyfrowane tymi samymi kluczami. Wtedy miejsca w których dostaniemy 0 (w konwencji użytej w tym zadaniu znak odpowiadający 0 w Unicode, czyli chr(0)) są miejscami w których w obu wiadomościach była ta sama litera. Jeżeli natomiast dodajemy wiadomości o różnych kluczach będziemy dostawać 0 w losowych miejscach. Zatem w pierwszym przypadku otrzymamy więcej 0.\n",
    "\n",
    "Zatem należy wczytać wszystki wiadomości msg1.txt, msg2.txt itd. a następnie dodać je do siebie parami, każda z każdą i policzyć odsetek 0 (tzn. znaków chr(0)) w otrzymanych sumach. Para wiadomości o wyższym niż inne odsetku będzie tą zaszyfrowaną przy u życiu tego samego klucza. Aby łatwiej zauważyć taką parę warto zilustrować sobie wyniki (odsetki 0) za pomocą plt.imshow(cmap,norm=LogNorm()) i użyć skali logarytmicznej."
   ]
  },
  {
   "cell_type": "code",
   "execution_count": 87,
   "metadata": {},
   "outputs": [],
   "source": [
    "messages=[]\n",
    "no_messages = 10\n",
    "for i in range(no_messages):\n",
    "    file = open(\"msg{}.txt\".format(i),encoding=\"utf-8\")\n",
    "    messages.append(file.read())\n",
    "    file.close()"
   ]
  },
  {
   "cell_type": "code",
   "execution_count": 88,
   "metadata": {},
   "outputs": [
    {
     "name": "stdout",
     "output_type": "stream",
     "text": [
      "((3, 8), 0.051324359531046464)\n"
     ]
    }
   ],
   "source": [
    "messages_sums = {}\n",
    "\n",
    "for i in range(no_messages):\n",
    "    for j in range(i+1, no_messages):\n",
    "        messages_sums[(i,j)]=add_str(messages[i],messages[j])\n",
    "        \n",
    "maximal=0\n",
    "\n",
    "for k in (messages_sums.keys()):\n",
    "    message_sum = messages_sums[k]\n",
    "    occurences = message_sum.count(chr(0))/len(message_sum)\n",
    "    if(occurences>maximal):\n",
    "        same_key_sum = (k,occurences)\n",
    "        maximal = occurences\n",
    "        \n",
    "print(same_key_sum)"
   ]
  },
  {
   "cell_type": "code",
   "execution_count": null,
   "metadata": {},
   "outputs": [],
   "source": []
  }
 ],
 "metadata": {
  "interpreter": {
   "hash": "fe576ce98fb499882f842c59cda27c51aa23a4bc63f86e9b9e6ec5c10118d911"
  },
  "kernelspec": {
   "display_name": "Python 3 (ipykernel)",
   "language": "python",
   "name": "python3"
  },
  "language_info": {
   "codemirror_mode": {
    "name": "ipython",
    "version": 3
   },
   "file_extension": ".py",
   "mimetype": "text/x-python",
   "name": "python",
   "nbconvert_exporter": "python",
   "pygments_lexer": "ipython3",
   "version": "3.9.7"
  }
 },
 "nbformat": 4,
 "nbformat_minor": 2
}
