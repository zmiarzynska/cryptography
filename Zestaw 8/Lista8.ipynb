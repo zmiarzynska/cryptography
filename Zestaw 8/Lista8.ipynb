{
 "cells": [
  {
   "cell_type": "markdown",
   "metadata": {},
   "source": [
    "# Lista 8 (10 pkt.)"
   ]
  },
  {
   "cell_type": "code",
   "execution_count": 1,
   "metadata": {},
   "outputs": [],
   "source": [
    "import numpy as np\n",
    "import matplotlib.pyplot as plt\n",
    "import random"
   ]
  },
  {
   "cell_type": "markdown",
   "metadata": {},
   "source": [
    "## Zadanie 1 (2 pkt.)"
   ]
  },
  {
   "cell_type": "markdown",
   "metadata": {},
   "source": [
    "Napisz funkcję $gen(a,b,p)$, która generuje listę punktów reprezentujących krzywą eliptyczną nad $\\mathbb{Z}_p$ o równaniu $y^2=(x^3+ax+b)\\mod p$."
   ]
  },
  {
   "cell_type": "code",
   "execution_count": 2,
   "metadata": {},
   "outputs": [],
   "source": [
    "def gen(a, b, p):\n",
    "    list_of_points = []\n",
    "    x_quadratic = [(x * x) % p for x in range(p)]\n",
    "    ellipse = [((x ** 3) + a * x + b) % p for x in range(p)]\n",
    "    for i in range(p):\n",
    "        y_quadratic = ellipse[i]\n",
    "        for j in range(p):\n",
    "            if x_quadratic[j] == y_quadratic:\n",
    "                list_of_points.append([i, j])\n",
    "    return list_of_points"
   ]
  },
  {
   "cell_type": "code",
   "execution_count": 3,
   "metadata": {},
   "outputs": [
    {
     "name": "stdout",
     "output_type": "stream",
     "text": [
      "True\n",
      "True\n",
      "True\n",
      "True\n"
     ]
    }
   ],
   "source": [
    "print(gen(-1,0,7)==[[0, 0], [1, 0], [4, 2], [4, 5], [5, 1], [5, 6], [6, 0]])\n",
    "print(gen(-1,0,11)==[[0, 0], [1, 0], [4, 4], [4, 7], [6, 1], [6, 10], [8, 3], [8, 8], [9, 4], [9, 7], [10, 0]])\n",
    "print(gen(-1,1,7)==[[0, 1], [0, 6], [1, 1], [1, 6], [2, 0], [3, 2], [3, 5], [5, 3], [5, 4], [6, 1], [6, 6]])\n",
    "print(gen(0,2,5)==[[2, 0], [3, 2], [3, 3], [4, 1], [4, 4]])"
   ]
  },
  {
   "cell_type": "markdown",
   "metadata": {},
   "source": [
    "## Zadanie 2 (2 pkt.)"
   ]
  },
  {
   "cell_type": "markdown",
   "metadata": {},
   "source": [
    "Napisz funkcję $add(P,Q,a,p)$, która dodaje do siebie punkty $P$ i $Q$ na krzywej eliptycznej nad ciałem $\\mathbb{Z}_p$ z parametrem $a$. Wykorzystaj wzory z wykładu.\n",
    "\n",
    "Uwaga 1: wszystkie operacje w tych wzorach są na ciele $\\mathbb{Z}_p$ zatem tam gdzie mamy dzielenie mamy tak naprawdę mnożenie przez odwrotność w tym ciele, wykorzystaj tutaj funkcję $inv$ z poprzedniej listy, może być potrzeba ją nieco zmodyfikować, ponieważ może się tu pojawić dzielenie przez zero, które daje nam punkt \"w nieskończości\" (na wykładzie: $\\mathcal{O}$).\n",
    "\n",
    "Uwaga 2: Uwzględnij również, że zarówno w wyniku dodawania jak i w argumentach dodawanie może pojawić się punkt \"w nieskończoności\", zwracaj go jako $nan$, tj. za pomocą $float('nan')$, do sprawdzania czy coś jest $nan$ użyj $np.isnan()$."
   ]
  },
  {
   "cell_type": "code",
   "execution_count": 4,
   "metadata": {},
   "outputs": [],
   "source": [
    "def inv(p,n):\n",
    "    x,y, u,v = 0,1, 1,0\n",
    "    while(n > 0):\n",
    "        r = p//n\n",
    "        m = p%n\n",
    "        new_u = x - u * r\n",
    "        new_v = y - v * r\n",
    "        p,n = n,m\n",
    "        x,y = u, v\n",
    "        u, v = new_u, new_v\n",
    "    if(y<0):\n",
    "        return y+new_v \n",
    "    return y"
   ]
  },
  {
   "cell_type": "code",
   "execution_count": 5,
   "metadata": {},
   "outputs": [],
   "source": [
    "def add(P,Q,a,p):\n",
    "    if (np.isnan(P[0]) or np.isnan(P[1])): \n",
    "        return Q\n",
    "    elif (np.isnan(Q[0]) or np.isnan(Q[1])):\n",
    "        return P\n",
    "    elif (P[0]==Q[0] and P[1]==(-Q[1])%p):\n",
    "        return [float('nan'),float('nan')]\n",
    "    elif (P==Q):\n",
    "        s = (3*(P[0]**2)+a) * inv(2*P[1],p)\n",
    "    else:\n",
    "        s = (Q[1]-P[1]) * inv(Q[0]-P[0],p)\n",
    "    x = (s*s - P[0] - Q[0])%p\n",
    "    y = (s*(P[0] - x) - P[1])%p\n",
    "    points = [x,y]\n",
    "    return points"
   ]
  },
  {
   "cell_type": "code",
   "execution_count": 6,
   "metadata": {},
   "outputs": [
    {
     "name": "stdout",
     "output_type": "stream",
     "text": [
      "True\n",
      "True\n",
      "True\n",
      "True\n",
      "[ True  True]\n",
      "[ True  True]\n",
      "True\n",
      "[ True  True]\n"
     ]
    }
   ],
   "source": [
    "print(add([4,2],[5,1],-1,7)==[6,0])\n",
    "print(add([4,2],[4,2],-1,7)==[1,0])\n",
    "print(add([4,2],[5,1],-1,7)==[6,0])\n",
    "print(add([4,2],[float('nan'),float('nan')],-1,7)==[4,2])\n",
    "print(np.isnan(add([float('nan'),float('nan')],[float('nan'),float('nan')],-1,7)))\n",
    "print(np.isnan(add([0,0],[0,0],-1,7)))\n",
    "print(add([2,0],[3,2],0,5)==[4,1])\n",
    "print(np.isnan(add([2,0],[2,0],0,5)))"
   ]
  },
  {
   "cell_type": "markdown",
   "metadata": {},
   "source": [
    "W oparciu o poprzednią funkcję napisz funkcję $multiply(n,P,a,p)$, która mnoży punkt $P$ razy liczbę naturalną $n$ na krzywej eliptycznej nad ciałem $\\mathbb{Z}_p$ z parametrem $a$, tzn. dodaje ten punkt do siebie $n$ razy."
   ]
  },
  {
   "cell_type": "code",
   "execution_count": 7,
   "metadata": {},
   "outputs": [],
   "source": [
    "def multiply(n,P,a,p):\n",
    "    temp = P\n",
    "    for i in range(1,n):\n",
    "        temp = add(temp,P,a,p)\n",
    "    return temp"
   ]
  },
  {
   "cell_type": "code",
   "execution_count": 8,
   "metadata": {},
   "outputs": [
    {
     "name": "stdout",
     "output_type": "stream",
     "text": [
      "[4, 5]\n"
     ]
    }
   ],
   "source": [
    "print(multiply(3,[4,2],-1,7))"
   ]
  },
  {
   "cell_type": "code",
   "execution_count": 9,
   "metadata": {},
   "outputs": [
    {
     "name": "stdout",
     "output_type": "stream",
     "text": [
      "True\n",
      "True\n",
      "True\n",
      "[ True  True]\n",
      "[ True  True]\n",
      "True\n",
      "True\n"
     ]
    }
   ],
   "source": [
    "print(multiply(1,[4,2],-1,7)==[4,2])\n",
    "print(multiply(1,[4,2],-1,7)==[4,2])\n",
    "print(multiply(3,[4,2],-1,7)==[4,5])\n",
    "print(np.isnan(multiply(4,[4,2],-1,7)))\n",
    "print(np.isnan(multiply(2,[float('nan'),float('nan')],-1,7)))\n",
    "print(multiply(5,[2,0],0,5)==[2,0])\n",
    "print(multiply(5,[3,3],0,5)==[3,2])"
   ]
  },
  {
   "cell_type": "markdown",
   "metadata": {},
   "source": [
    "## Zadanie 3 (2 pkt.)"
   ]
  },
  {
   "cell_type": "markdown",
   "metadata": {},
   "source": [
    "Narysuj na wykresie punkty ($plt.scatter()$) reprezentujące krzywą eliptyczną. Stosując funkjcę $multiply()$ przeanalizuj jaką grupę generuje kazdy z punktów tej krzywej, wypisz te grupy. Nie automatyzuj tego, tzn. operacje na punktach wykonuj stosując wcześniejsze funkcje ale analizę poszczególnych grup przeprowadź ręcznie.\n",
    "\n",
    "Na przykład dla krzywej $y^2=x^3-5x$ nad ciałem $\\mathbb{Z}_5$ mamy 5 punktów (łącznie z punktem w nieskończoności, którego nie ma na wykresie, 6 punktów):\n",
    "\n",
    "<img src=\"fig.png\" width=\"500\"/>\n",
    "\n",
    "Punkt $P_0$ generuje dwuelementową grupę:\n",
    "\n",
    "{$P_0,\\mathcal{O}$},\n",
    "\n",
    "bo $2P_0=\\mathcal{O}$,\n",
    "\n",
    "punkt $P_1$ generuje pięcioelementową grupę:\n",
    "\n",
    "{$P_1,P_3,P_4,P_2,\\mathcal{O}$}\n",
    "\n",
    "bo $2P_1=P_3,3P_1=P_4,4P_1=P_2,5P_1=\\mathcal{O}$\n",
    "\n",
    "pozostałe elementy $P_2,P_3,P_4$ generują dokładnie tą samą grupę, zatem na tej krzywej mamy określone dwie grupy jedną dwuelementową i jedną pięcioelementową.\n",
    "\n",
    "Przeprowadź podobną analizę dla przykładów:\n",
    "1. krzywa nad ciałem $\\mathbb{Z}_7$ o równaniu $y^2=x^3-x$\n",
    "2. krzywa nad ciałem $\\mathbb{Z}_5$ o równaniu $y^2=x^3-2x+1$"
   ]
  },
  {
   "cell_type": "code",
   "execution_count": 10,
   "metadata": {},
   "outputs": [],
   "source": [
    "#1. \n",
    "a=-1\n",
    "b=0\n",
    "p=7\n",
    "points = gen(a,b,p)"
   ]
  },
  {
   "cell_type": "code",
   "execution_count": 11,
   "metadata": {},
   "outputs": [
    {
     "data": {
      "text/plain": [
       "[[0, 0], [1, 0], [4, 2], [4, 5], [5, 1], [5, 6], [6, 0]]"
      ]
     },
     "execution_count": 11,
     "metadata": {},
     "output_type": "execute_result"
    }
   ],
   "source": [
    "points"
   ]
  },
  {
   "cell_type": "code",
   "execution_count": 12,
   "metadata": {},
   "outputs": [
    {
     "data": {
      "text/plain": [
       "<matplotlib.collections.PathCollection at 0x1d86aa8c5b0>"
      ]
     },
     "execution_count": 12,
     "metadata": {},
     "output_type": "execute_result"
    },
    {
     "data": {
      "image/png": "[encoded data removed]",
      "text/plain": [
       "<Figure size 432x288 with 1 Axes>"
      ]
     },
     "metadata": {
      "needs_background": "light"
     },
     "output_type": "display_data"
    }
   ],
   "source": [
    "plt.scatter([p[0] for p in points], [p[1] for p in points])"
   ]
  },
  {
   "cell_type": "code",
   "execution_count": 13,
   "metadata": {},
   "outputs": [
    {
     "name": "stdout",
     "output_type": "stream",
     "text": [
      "Krzywa nad cialem Z7 o rownaniu y^2 = x^3 - x\n",
      "a=-1, b=0, p=7\n",
      "punkty - [[0, 0], [1, 0], [4, 2], [4, 5], [5, 1], [5, 6], [6, 0]]\n",
      "\n",
      "P[0] - grupa dwuelementowa: [[0, 0], [nan, nan]]\n",
      " 2P[0]=O\n",
      "\n",
      "P[1] - grupa dwuelementowa: [[1, 0], [nan, nan]]\n",
      " 2P[1]=O\n",
      "\n",
      "P[2] - grupa czteroelementowa: [[4, 2], [1, 0], [4, 5], [nan, nan]]\n",
      " 2P[2]=P[1], 3P[2]=P[3], 4P[2]=O \n",
      "\n",
      "P[3] - grupa czteroelementowa: [[4, 5], [1, 0], [4, 2], [nan, nan]]\n",
      " 2P[3]=P[1], 3P[3]=P[2], 4P[3]=O \n",
      "\n",
      "P[4] - grupa czteroelementowa: [[5, 1], [1, 0], [5, 6], [nan, nan]]\n",
      " 2P[4]=P[1], 3P[4]=P[5], 4P[4]=O \n",
      "\n",
      "P[5] - grupa czteroelementowa: [[5, 6], [1, 0], [5, 1], [nan, nan]]\n",
      " 2P[5]=P[1], 3P[5]=P[4], 4P[5]=O \n",
      "\n",
      "P[6] - grupa dwuelementowa: [[6, 0], [nan, nan]]\n",
      " 2P[6]=O\n",
      "\n"
     ]
    }
   ],
   "source": [
    "print(\"Krzywa nad cialem Z7 o rownaniu y^2 = x^3 - x\")\n",
    "a = -1\n",
    "b = 0\n",
    "p = 7\n",
    "print(f\"a={a}, b={b}, p={p}\")\n",
    "points = gen(a,b,p)\n",
    "print(f\"punkty - {points}\\n\")\n",
    "print(f\"P[0] - grupa dwuelementowa: {[points[0],multiply(2,points[0],a,p)]}\")\n",
    "print(\" 2P[0]=O\\n\")\n",
    "print(f\"P[1] - grupa dwuelementowa: {[points[1],multiply(2,points[1],a,p)]}\")\n",
    "print(\" 2P[1]=O\\n\")\n",
    "print(f\"P[2] - grupa czteroelementowa: {[points[2],multiply(2,points[2],a,p),multiply(3,points[2],a,p),multiply(4,points[2],a,p)]}\")\n",
    "print(\" 2P[2]=P[1], 3P[2]=P[3], 4P[2]=O \\n\")\n",
    "print(f\"P[3] - grupa czteroelementowa: {[points[3],multiply(2,points[3],a,p),multiply(3,points[3],a,p),multiply(4,points[3],a,p)]}\")\n",
    "print(\" 2P[3]=P[1], 3P[3]=P[2], 4P[3]=O \\n\")\n",
    "print(f\"P[4] - grupa czteroelementowa: {[points[4],multiply(2,points[4],a,p),multiply(3,points[4],a,p),multiply(4,points[4],a,p)]}\")\n",
    "print(\" 2P[4]=P[1], 3P[4]=P[5], 4P[4]=O \\n\")\n",
    "print(f\"P[5] - grupa czteroelementowa: {[points[5],multiply(2,points[5],a,p),multiply(3,points[5],a,p),multiply(4,points[5],a,p)]}\")\n",
    "print(\" 2P[5]=P[1], 3P[5]=P[4], 4P[5]=O \\n\")\n",
    "print(f\"P[6] - grupa dwuelementowa: {[points[6],multiply(2,points[6],a,p)]}\")\n",
    "print(\" 2P[6]=O\\n\")\n"
   ]
  },
  {
   "cell_type": "code",
   "execution_count": 14,
   "metadata": {},
   "outputs": [
    {
     "name": "stdout",
     "output_type": "stream",
     "text": [
      "Krzywa nad cialem Z5 o rownaniu y^2 = x^3 - x\n",
      "a=-2, b=1, p=5\n",
      "punkty - [[0, 1], [0, 4], [1, 0], [2, 0]] \n",
      "\n",
      "P[0] - grupa czteroelementowa: [[0, 1], [1, 0], [0, 4], [nan, nan]]\n",
      " 2P[0]=P[2], 3P[0]=P[1], 4P[0]=O \n",
      "\n",
      "P[1] - grupa czteroelementowa: [[0, 4], [1, 0], [0, 1], [nan, nan]]\n",
      " 2P[1]=P[2], 3P[1]=P[0], 4P[1]=O \n",
      "\n",
      "P[2] - grupa dwuelementowa: [[1, 0], [nan, nan]]\n",
      " 2P[2]=O \n",
      "\n",
      "P[3] - grupa dwuelementowa: [[2, 0], [nan, nan]]\n",
      " 2P[3]=O \n",
      "\n"
     ]
    },
    {
     "data": {
      "text/plain": [
       "<matplotlib.collections.PathCollection at 0x1d86cc29850>"
      ]
     },
     "execution_count": 14,
     "metadata": {},
     "output_type": "execute_result"
    },
    {
     "data": {
      "image/png": "[encoded data removed]",
      "text/plain": [
       "<Figure size 432x288 with 1 Axes>"
      ]
     },
     "metadata": {
      "needs_background": "light"
     },
     "output_type": "display_data"
    }
   ],
   "source": [
    "print(\"Krzywa nad cialem Z{} o rownaniu y^2 = x^3 - x\".format(5))\n",
    "a = -2\n",
    "b = 1\n",
    "p = 5\n",
    "print(f\"a={a}, b={b}, p={p}\")\n",
    "points = gen(a,b,p)\n",
    "print(f\"punkty - {points} \\n\")\n",
    "i=0\n",
    "print(f\"P[{i}] - grupa czteroelementowa: {[points[i],multiply(2,points[i],a,p),multiply(3,points[i],a,p),multiply(4,points[i],a,p)]}\")\n",
    "print(f\" 2P[{i}]=P[2], 3P[{i}]=P[1], 4P[{i}]=O \\n\")\n",
    "i=1\n",
    "print(f\"P[{i}] - grupa czteroelementowa: {[points[i],multiply(2,points[i],a,p),multiply(3,points[i],a,p),multiply(4,points[i],a,p)]}\")\n",
    "print(f\" 2P[{i}]=P[2], 3P[{i}]=P[0], 4P[{i}]=O \\n\")\n",
    "\n",
    "i=2\n",
    "print(f\"P[{i}] - grupa dwuelementowa: {[points[i],multiply(2,points[i],a,p)]}\")\n",
    "print(f\" 2P[{i}]=O \\n\")\n",
    "i=3\n",
    "print(f\"P[{i}] - grupa dwuelementowa: {[points[i],multiply(2,points[i],a,p)]}\")\n",
    "print(f\" 2P[{i}]=O \\n\")\n",
    "plt.scatter([p[0] for p in points], [p[1] for p in points])"
   ]
  },
  {
   "cell_type": "markdown",
   "metadata": {},
   "source": [
    "## Zadanie 4 (1 pkt)"
   ]
  },
  {
   "cell_type": "markdown",
   "metadata": {},
   "source": [
    "Sprawdź numerycznie, korzystając z funkcji $gen()$, twierdzenie Hassego. Sprawdź, że ze wzrostem liczby pierwszej $p$ dla krzywej o parametrach $a=-1$, $b=0$ liczba punktów na krzywej podąża za oszacowaniem $p+1-2\\sqrt{p}\\leq\\#E\\leq p+1+2\\sqrt{p}$. Narysuj wykres $\\#E(p)$ i proste o równaniach $p+1-2\\sqrt{p}$ oraz $p+1+2\\sqrt{p}$.\n",
    "\n",
    "Uwaga: Możesz wygenerować liczby pierwsze, np. w zakresie od 0 do 1000, za pomocą:"
   ]
  },
  {
   "cell_type": "code",
   "execution_count": 15,
   "metadata": {},
   "outputs": [
    {
     "data": {
      "text/plain": [
       "[<matplotlib.lines.Line2D at 0x1d86de488e0>]"
      ]
     },
     "execution_count": 15,
     "metadata": {},
     "output_type": "execute_result"
    },
    {
     "data": {
      "image/png": "[encoded data removed]",
      "text/plain": [
       "<Figure size 432x288 with 1 Axes>"
      ]
     },
     "metadata": {
      "needs_background": "light"
     },
     "output_type": "display_data"
    }
   ],
   "source": [
    "from sympy import primerange # modulo p = zwieksza ilosc punktow na krzywej do tego zakresu\n",
    "primes = list(primerange(0,1000))\n",
    "import math\n",
    "\n",
    "a=-1\n",
    "b=0\n",
    "\n",
    "values = []\n",
    "down = []\n",
    "up =[]\n",
    "for prime in primes:\n",
    "    values.append(len(gen(a,b,prime)))\n",
    "    down.append(prime+1-2*math.sqrt(prime))\n",
    "    up.append(prime+1+2*math.sqrt(prime))\n",
    "    \n",
    "plt.scatter(primes,values)\n",
    "plt.plot(primes, down)\n",
    "plt.plot(primes, up)"
   ]
  },
  {
   "cell_type": "markdown",
   "metadata": {},
   "source": [
    "lub jakkolwiek inaczej."
   ]
  },
  {
   "cell_type": "markdown",
   "metadata": {},
   "source": [
    "## Zadanie 5 (2 pkt.)"
   ]
  },
  {
   "cell_type": "markdown",
   "metadata": {},
   "source": [
    "Napisz funkcję $ord(G,a,p)$ znajdującą rząd punktu $G$ na krzywej o parametrach $a$, $p$ (oznaczenia jak w poprzednich zadaniach). Rząd elementu to $n$ takie, że $nG=\\mathcal{O}$. Znajdź punkt na krzywej o parametrach $a=-1$,$b=0$,$p=97$ o największym rzędzie, moze ich być więcej niż jeden, wybierz którykolwiek."
   ]
  },
  {
   "cell_type": "code",
   "execution_count": 16,
   "metadata": {},
   "outputs": [],
   "source": [
    "def ord(G,a,p):\n",
    "    for i in range(100):\n",
    "        conf = multiply(i, G, a, p)\n",
    "        if np.isnan(conf[0]) or np.isnan(conf[1]):\n",
    "            break\n",
    "        i=-1\n",
    "    return i"
   ]
  },
  {
   "cell_type": "code",
   "execution_count": 17,
   "metadata": {
    "scrolled": false
   },
   "outputs": [
    {
     "name": "stdout",
     "output_type": "stream",
     "text": [
      "True\n",
      "True\n",
      "True\n",
      "True\n",
      "True\n",
      "True\n"
     ]
    }
   ],
   "source": [
    "print(ord([4,4],-1,11)==3)\n",
    "print(ord([8,8],-1,11)==6)\n",
    "print(ord([3,2],-1,7)==3)\n",
    "print(ord([3,5],-1,7)==3)\n",
    "print(ord([3,2],0,5)==3)\n",
    "print(ord([0,0],0,5)==2)"
   ]
  },
  {
   "cell_type": "code",
   "execution_count": 18,
   "metadata": {},
   "outputs": [
    {
     "name": "stdout",
     "output_type": "stream",
     "text": [
      "[[0, 0], [1, 0], [2, 43], [2, 54], [3, 11], [3, 86], [6, 4], [6, 93], [13, 27], [13, 70], [15, 16], [15, 81], [16, 43], [16, 54], [18, 24], [18, 73], [19, 27], [19, 70], [21, 5], [21, 92], [22, 21], [22, 76], [27, 16], [27, 81], [28, 14], [28, 83], [30, 2], [30, 95], [32, 12], [32, 85], [37, 46], [37, 51], [42, 36], [42, 61], [45, 26], [45, 71], [46, 22], [46, 75], [48, 35], [48, 62], [49, 6], [49, 91], [51, 1], [51, 96], [52, 10], [52, 87], [55, 16], [55, 81], [60, 42], [60, 55], [65, 27], [65, 70], [67, 44], [67, 53], [69, 17], [69, 80], [70, 36], [70, 61], [75, 23], [75, 74], [76, 13], [76, 84], [78, 12], [78, 85], [79, 43], [79, 54], [81, 24], [81, 73], [82, 36], [82, 61], [84, 12], [84, 85], [91, 9], [91, 88], [94, 48], [94, 49], [95, 24], [95, 73], [96, 0]]\n",
      "point: [6, 4], order: 20\n"
     ]
    }
   ],
   "source": [
    "a=-1\n",
    "b=0\n",
    "p=97\n",
    "points = gen(a,b,p)\n",
    "max_ord = 0\n",
    "print(points)\n",
    "for point in points:\n",
    "    curr_ord = ord(point,a,p)\n",
    "    if(curr_ord>max_ord):\n",
    "        max_ord=curr_ord\n",
    "        result = point\n",
    "        \n",
    "print(\"point: {}, order: {}\".format(result,max_ord))"
   ]
  },
  {
   "cell_type": "markdown",
   "metadata": {},
   "source": [
    "## Zadanie 6 (1 pkt)"
   ]
  },
  {
   "cell_type": "markdown",
   "metadata": {},
   "source": [
    "Prześledź działanie protokołu Diffiego-Helmana, jednak tym razem opertego o krzywe eliptyczne, i uzupełnij poszczególne kroki.\n",
    "\n",
    "Alicja i Bob ustalają publicznie krzywą eliptyczą (czyli parametry $a$,$b$,$p$) w której będą działać oraz punkt na tej krzywej $G$. Weź krzywą z poprzedniego zadania oraz znaleziony w nim punkt."
   ]
  },
  {
   "cell_type": "code",
   "execution_count": 19,
   "metadata": {},
   "outputs": [],
   "source": [
    "a = -1\n",
    "b = 0\n",
    "G = [6, 4]\n",
    "p = 97 #parametry krzywej i punkt G"
   ]
  },
  {
   "cell_type": "markdown",
   "metadata": {},
   "source": [
    "Alicja wybiera losową liczbę naturalną $n$ z przedziału $[2,\\#E-1]$, $\\#E$ to liczba punktów na krzywej:"
   ]
  },
  {
   "cell_type": "code",
   "execution_count": 20,
   "metadata": {},
   "outputs": [
    {
     "name": "stdout",
     "output_type": "stream",
     "text": [
      "75\n"
     ]
    }
   ],
   "source": [
    "E=len(gen(a,b,p))\n",
    "n = random.randint(2,E-1)\n",
    "print(n)"
   ]
  },
  {
   "cell_type": "markdown",
   "metadata": {},
   "source": [
    "Następnie oblicza $A=nG$ zgodnie z zasadami mnożenia punktów na krzywej przez liczbe naturalną:"
   ]
  },
  {
   "cell_type": "code",
   "execution_count": 21,
   "metadata": {},
   "outputs": [
    {
     "name": "stdout",
     "output_type": "stream",
     "text": [
      "[22, 21]\n"
     ]
    }
   ],
   "source": [
    "A=multiply(n,G,a,p)\n",
    "print(A)"
   ]
  },
  {
   "cell_type": "markdown",
   "metadata": {},
   "source": [
    "To samo robi Bob, wybiera losową liczbę naturalną $m$ i oblicza $B=mG$:"
   ]
  },
  {
   "cell_type": "code",
   "execution_count": 22,
   "metadata": {},
   "outputs": [
    {
     "name": "stdout",
     "output_type": "stream",
     "text": [
      "49\n",
      "[16, 43]\n"
     ]
    }
   ],
   "source": [
    "m=random.randint(2,E-1)\n",
    "B=multiply(m,G,a,p)\n",
    "print(m)\n",
    "print(B)"
   ]
  },
  {
   "cell_type": "markdown",
   "metadata": {},
   "source": [
    "Liczby $n$ i $m$ są znane tylko, odpowiednio, Alicji i Bobowi, natomiast $A$ oraz $B$ są wymieniane publicznym kanałem. Bob otrzymuje $A$ i wykonuje operację $k_B=mA$, z kolei Alicja otrzymuje $B$ i wykonuje operację $k_A=nB$:"
   ]
  },
  {
   "cell_type": "code",
   "execution_count": 23,
   "metadata": {},
   "outputs": [],
   "source": [
    "k_B=multiply(m,A,a,p)\n",
    "k_A=multiply(n,B,a,p)"
   ]
  },
  {
   "cell_type": "code",
   "execution_count": 24,
   "metadata": {},
   "outputs": [
    {
     "data": {
      "text/plain": [
       "True"
      ]
     },
     "execution_count": 24,
     "metadata": {},
     "output_type": "execute_result"
    }
   ],
   "source": [
    "k_A==k_B #dysponuja tym samym kluczem  "
   ]
  },
  {
   "cell_type": "markdown",
   "metadata": {},
   "source": [
    "Zawuażmy, że $k_A=k_B$, wynika to z tego, że $k_A=nB=nmG$ oraz $k_B=mA=mnG$ a oczywiście $nm=mn$. Zatem Alicja i Bob dysponują tą samą liczbą, którą mogą użyć jako klucz do szyfrowania. Publicznie znane są wartości $a$, $b$, $p$, $G$, $nG$ oraz $mG$, jednak odzyskanie z nich $n$ i $m$ jest bardzo trudne przy odpwiednim doborze krzywej i punktu na niej."
   ]
  },
  {
   "cell_type": "code",
   "execution_count": 25,
   "metadata": {},
   "outputs": [
    {
     "name": "stdout",
     "output_type": "stream",
     "text": [
      "[22, 21]\n",
      "[22, 21]\n"
     ]
    }
   ],
   "source": [
    "print(k_A)\n",
    "print(k_B)"
   ]
  }
 ],
 "metadata": {
  "kernelspec": {
   "display_name": "Python 3 (ipykernel)",
   "language": "python",
   "name": "python3"
  },
  "language_info": {
   "codemirror_mode": {
    "name": "ipython",
    "version": 3
   },
   "file_extension": ".py",
   "mimetype": "text/x-python",
   "name": "python",
   "nbconvert_exporter": "python",
   "pygments_lexer": "ipython3",
   "version": "3.9.7"
  }
 },
 "nbformat": 4,
 "nbformat_minor": 4
}
