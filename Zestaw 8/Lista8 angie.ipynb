{
 "cells": [
  {
   "cell_type": "markdown",
   "metadata": {},
   "source": [
    "# Lista 8 (10 pkt.)"
   ]
  },
  {
   "cell_type": "code",
   "execution_count": 1,
   "metadata": {},
   "outputs": [],
   "source": [
    "import numpy as np\n",
    "import math\n",
    "import matplotlib.pyplot as plt\n",
    "import sympy\n",
    "import random"
   ]
  },
  {
   "cell_type": "markdown",
   "metadata": {},
   "source": [
    "## Zadanie 1 (2 pkt.)"
   ]
  },
  {
   "cell_type": "markdown",
   "metadata": {},
   "source": [
    "Napisz funkcję $gen(a,b,p)$, która generuje listę punktów reprezentujących krzywą eliptyczną nad $\\mathbb{Z}_p$ o równaniu $y^2=(x^3+ax+b)\\mod p$."
   ]
  },
  {
   "cell_type": "code",
   "execution_count": 2,
   "metadata": {},
   "outputs": [],
   "source": [
    "def gen(a,b,p):\n",
    "    points = []\n",
    "    perf_square = dict()\n",
    "    for i in range(0,p):\n",
    "        j=(i**2)%p\n",
    "        perf_square[i] = j\n",
    "    for i in range(0, p):\n",
    "        test = pow(i,3) + (a*i) + (b)\n",
    "        test = test%p\n",
    "        if test in perf_square.values():\n",
    "            sq = list(perf_square.keys())[list(perf_square.values()).index(test)]\n",
    "            points.append([i, sq])\n",
    "            if(sq!=0):\n",
    "                points.append([i, p-sq])\n",
    "    return points  "
   ]
  },
  {
   "cell_type": "code",
   "execution_count": 3,
   "metadata": {},
   "outputs": [
    {
     "name": "stdout",
     "output_type": "stream",
     "text": [
      "True\n",
      "True\n",
      "True\n",
      "True\n"
     ]
    }
   ],
   "source": [
    "print(gen(-1,0,7)==[[0, 0], [1, 0], [4, 2], [4, 5], [5, 1], [5, 6], [6, 0]])\n",
    "print(gen(-1,0,11)==[[0, 0], [1, 0], [4, 4], [4, 7], [6, 1], [6, 10], [8, 3], [8, 8], [9, 4], [9, 7], [10, 0]])\n",
    "print(gen(-1,1,7)==[[0, 1], [0, 6], [1, 1], [1, 6], [2, 0], [3, 2], [3, 5], [5, 3], [5, 4], [6, 1], [6, 6]])\n",
    "print(gen(0,2,5)==[[2, 0], [3, 2], [3, 3], [4, 1], [4, 4]])"
   ]
  },
  {
   "cell_type": "markdown",
   "metadata": {},
   "source": [
    "## Zadanie 2 (2 pkt.)"
   ]
  },
  {
   "cell_type": "markdown",
   "metadata": {},
   "source": [
    "Napisz funkcję $add(P,Q,a,p)$, która dodaje do siebie punkty $P$ i $Q$ na krzywej eliptycznej nad ciałem $\\mathbb{Z}_p$ z parametrem $a$. Wykorzystaj wzory z wykładu.\n",
    "\n",
    "Uwaga 1: wszystkie operacje w tych wzorach są na ciele $\\mathbb{Z}_p$ zatem tam gdzie mamy dzielenie mamy tak naprawdę mnożenie przez odwrotność w tym ciele, wykorzystaj tutaj funkcję $inv$ z poprzedniej listy, może być potrzeba ją nieco zmodyfikować, ponieważ może się tu pojawić dzielenie przez zero, które daje nam punkt \"w nieskończości\" (na wykładzie: $\\mathcal{O}$).\n",
    "\n",
    "Uwaga 2: Uwzględnij również, że zarówno w wyniku dodawania jak i w argumentach dodawanie może pojawić się punkt \"w nieskończoności\", zwracaj go jako $nan$, tj. za pomocą $float('nan')$, do sprawdzania czy coś jest $nan$ użyj $np.isnan()$."
   ]
  },
  {
   "cell_type": "code",
   "execution_count": 4,
   "metadata": {},
   "outputs": [],
   "source": [
    "#zestaw 7\n",
    "def inv(p,n):\n",
    "    x = 1\n",
    "    y = 0\n",
    "    r = 0\n",
    "    s = 1\n",
    "    \n",
    "    while n > 0:\n",
    "        q = p//n\n",
    "        c = p%n\n",
    "        p = n\n",
    "        n = c\n",
    "        temp_r = r\n",
    "        temp_s = s\n",
    "        r = x - q * r\n",
    "        s = y - q * s\n",
    "        x = temp_r\n",
    "        y = temp_s\n",
    "    return x"
   ]
  },
  {
   "cell_type": "code",
   "execution_count": 5,
   "metadata": {},
   "outputs": [],
   "source": [
    "def add(P,Q,a,p):\n",
    "    if(np.isnan(P[0]) or np.isnan(P[1])):\n",
    "        return Q\n",
    "    if(np.isnan(Q[0]) or np.isnan(Q[1])):\n",
    "        return P\n",
    "    if P[0] == Q[0]:\n",
    "        if (P == [Q[0], (-Q[1]) % p]):\n",
    "            return [float('nan'), float('nan')]\n",
    "        else:\n",
    "            inv_ = inv(2*P[1],p)\n",
    "            s = (3*pow(P[0],2)+a)*inv_\n",
    "    else:\n",
    "        inv_ = inv(Q[0]-P[0],p)\n",
    "        s = (Q[1]-P[1])*inv_\n",
    "    x3 = (s**2-Q[0]-P[0])%p\n",
    "    y3 = ((s*(Q[0]-x3)-Q[1]))%p\n",
    "    return [x3,y3]"
   ]
  },
  {
   "cell_type": "code",
   "execution_count": 6,
   "metadata": {},
   "outputs": [
    {
     "name": "stdout",
     "output_type": "stream",
     "text": [
      "True\n",
      "True\n",
      "True\n",
      "True\n",
      "[ True  True]\n",
      "[ True  True]\n",
      "True\n",
      "[ True  True]\n"
     ]
    }
   ],
   "source": [
    "print(add([4,2],[5,1],-1,7)==[6,0])\n",
    "print(add([4,2],[4,2],-1,7)==[1,0])\n",
    "print(add([4,2],[5,1],-1,7)==[6,0])\n",
    "print(add([4,2],[float('nan'),float('nan')],-1,7)==[4,2])\n",
    "print(np.isnan(add([float('nan'),float('nan')],[float('nan'),float('nan')],-1,7)))\n",
    "print(np.isnan(add([0,0],[0,0],-1,7)))\n",
    "print(add([2,0],[3,2],0,5)==[4,1])\n",
    "print(np.isnan(add([2,0],[2,0],0,5)))"
   ]
  },
  {
   "cell_type": "markdown",
   "metadata": {},
   "source": [
    "W oparciu o poprzednią funkcję napisz funkcję $multiply(n,P,a,p)$, która mnoży punkt $P$ razy liczbę naturalną $n$ na krzywej eliptycznej nad ciałem $\\mathbb{Z}_p$ z parametrem $a$, tzn. dodaje ten punkt do siebie $n$ razy."
   ]
  },
  {
   "cell_type": "code",
   "execution_count": 7,
   "metadata": {},
   "outputs": [],
   "source": [
    "def double(P,a,p):\n",
    "    if(np.isnan(P[0]) or np.isnan(P[1])):\n",
    "        return [float('nan'),float('nan')]\n",
    "    else:\n",
    "        return add(P,P,a,p)\n",
    "def multiply(n,P,a,p):\n",
    "    result = [float('nan'),float('nan')]\n",
    "    add_ = P\n",
    "    while n:\n",
    "        if n%2:\n",
    "            result = add(result, add_, a,p)\n",
    "        add_ = double(add_,a,p)\n",
    "        n = n//2\n",
    "    return result"
   ]
  },
  {
   "cell_type": "code",
   "execution_count": 8,
   "metadata": {},
   "outputs": [
    {
     "name": "stdout",
     "output_type": "stream",
     "text": [
      "True\n",
      "True\n",
      "True\n",
      "[ True  True]\n",
      "[ True  True]\n",
      "True\n",
      "True\n"
     ]
    }
   ],
   "source": [
    "print(multiply(1,[4,2],-1,7)==[4,2])\n",
    "print(multiply(1,[4,2],-1,7)==[4,2])\n",
    "print(multiply(3,[4,2],-1,7)==[4,5])\n",
    "print(np.isnan(multiply(4,[4,2],-1,7)))\n",
    "print(np.isnan(multiply(2,[float('nan'),float('nan')],-1,7)))\n",
    "print(multiply(5,[2,0],0,5)==[2,0])\n",
    "print(multiply(5,[3,3],0,5)==[3,2])"
   ]
  },
  {
   "cell_type": "markdown",
   "metadata": {},
   "source": [
    "## Zadanie 3 (2 pkt.)"
   ]
  },
  {
   "cell_type": "markdown",
   "metadata": {},
   "source": [
    "Narysuj na wykresie punkty ($plt.scatter()$) reprezentujące krzywą eliptyczną. Stosując funkjcę $multiply()$ przeanalizuj jaką grupę generuje kazdy z punktów tej krzywej, wypisz te grupy. Nie automatyzuj tego, tzn. operacje na punktach wykonuj stosując wcześniejsze funkcje ale analizę poszczególnych grup przeprowadź ręcznie.\n",
    "\n",
    "Na przykład dla krzywej $y^2=x^3-5x$ nad ciałem $\\mathbb{Z}_5$ mamy 5 punktów (łącznie z punktem w nieskończoności, którego nie ma na wykresie, 6 punktów):\n",
    "\n",
    "<img src=\"fig.png\" width=\"500\"/>\n",
    "\n",
    "Punkt $P_0$ generuje dwuelementową grupę:\n",
    "\n",
    "{$P_0,\\mathcal{O}$},\n",
    "\n",
    "bo $2P_0=\\mathcal{O}$,\n",
    "\n",
    "punkt $P_1$ generuje pięcioelementową grupę:\n",
    "\n",
    "{$P_1,P_3,P_4,P_2,\\mathcal{O}$}\n",
    "\n",
    "bo $2P_1=P_3,3P_1=P_4,4P_1=P_2,5P_1=\\mathcal{O}$\n",
    "\n",
    "pozostałe elementy $P_2,P_3,P_4$ generują dokładnie tą samą grupę, zatem na tej krzywej mamy określone dwie grupy jedną dwuelementową i jedną pięcioelementową.\n",
    "\n",
    "Przeprowadź podobną analizę dla przykładów:\n",
    "1. krzywa nad ciałem $\\mathbb{Z}_7$ o równaniu $y^2=x^3-x$\n",
    "2. krzywa nad ciałem $\\mathbb{Z}_5$ o równaniu $y^2=x^3-2x+1$"
   ]
  },
  {
   "cell_type": "code",
   "execution_count": 9,
   "metadata": {},
   "outputs": [
    {
     "name": "stdout",
     "output_type": "stream",
     "text": [
      "Krzywa: a = -5, b = 0, p = 5\n",
      "Punkty: [[0, 0], [1, 1], [1, 4], [4, 2], [4, 3]]\n",
      "---------------------------------------------------\n",
      "2P0 =  [nan, nan] = O\n",
      "P0 generuje grupę: {P0, O}\n",
      "---------------------------------------------------\n",
      "2P1 =  [4, 2] = P3\n",
      "3P1 =  [4, 3] = P4\n",
      "4P1 =  [1, 4] = P2\n",
      "5P1 =  [nan, nan] = O\n",
      "P1 generuje grupę: {P1,P3,P4,P2,O}\n",
      "---------------------------------------------------\n",
      "Dla krzywej mamy określone dwie grupy - dwuelementową i pięcioelementową\n"
     ]
    },
    {
     "data": {
      "text/plain": [
       "<matplotlib.collections.PathCollection at 0x243b8f0ab50>"
      ]
     },
     "execution_count": 9,
     "metadata": {},
     "output_type": "execute_result"
    },
    {
     "data": {
      "image/png": "[encoded data removed]",
      "text/plain": [
       "<Figure size 432x288 with 1 Axes>"
      ]
     },
     "metadata": {
      "needs_background": "light"
     },
     "output_type": "display_data"
    }
   ],
   "source": [
    "points = gen(-5,0,5)\n",
    "\n",
    "print(\"Krzywa: a = -5, b = 0, p = 5\")\n",
    "print(\"Punkty:\",points)\n",
    "print(\"---------------------------------------------------\")\n",
    "print(\"2P0 = \", multiply(2,[0,0],-5,5), \"= O\")\n",
    "print(\"P0 generuje grupę: {P0, O}\")\n",
    "print(\"---------------------------------------------------\")\n",
    "print(\"2P1 = \", multiply(2,[1,1],-5,5), \"= P3\")\n",
    "print(\"3P1 = \", multiply(3,[1,1],-5,5), \"= P4\")\n",
    "print(\"4P1 = \", multiply(4,[1,1],-5,5), \"= P2\")\n",
    "print(\"5P1 = \", multiply(5,[1,1],-5,5), \"= O\")\n",
    "print(\"P1 generuje grupę: {P1,P3,P4,P2,O}\")\n",
    "print(\"---------------------------------------------------\")\n",
    "print(\"Dla krzywej mamy określone dwie grupy - dwuelementową i pięcioelementową\")\n",
    "plt.scatter(*zip(*points))"
   ]
  },
  {
   "cell_type": "code",
   "execution_count": 10,
   "metadata": {},
   "outputs": [
    {
     "name": "stdout",
     "output_type": "stream",
     "text": [
      "Krzywa: a = -1, b = 0, p = 7\n",
      "Punkty: [[0, 0], [1, 0], [4, 2], [4, 5], [5, 1], [5, 6], [6, 0]]\n",
      "---------------------------------------------------\n",
      "2P0 =  [nan, nan] = O\n",
      "P0 generuje grupę: {P0, O}\n",
      "---------------------------------------------------\n",
      "2P1 =  [nan, nan] = O\n",
      "P1 generuje grupę: {P1, O}\n",
      "---------------------------------------------------\n",
      "2P2 =  [1, 0] = P1\n",
      "3P2 =  [4, 5] = P3\n",
      "4P2 =  [nan, nan] = O\n",
      "P2 generuje grupę: {P2, P1, P3, O}\n",
      "---------------------------------------------------\n",
      "2P3 =  [1, 0] = P1\n",
      "3P3 =  [4, 2] = P2\n",
      "4P3 =  [nan, nan] = O\n",
      "P3 generuje grupę: {P3, P1, P2, O}\n",
      "---------------------------------------------------\n",
      "2P4 =  [1, 0] = P1\n",
      "3P4 =  [5, 6] = P5\n",
      "4P4 =  [nan, nan] = O\n",
      "P4 generuje grupę: {P4, P1, P5, O}\n",
      "---------------------------------------------------\n",
      "2P5 =  [1, 0] = P1\n",
      "3P5 =  [5, 1] = P4\n",
      "4P5 =  [nan, nan] = O\n",
      "P5 generuje grupę: {P5, P1, P4, O}\n",
      "---------------------------------------------------\n",
      "2P6 =  [nan, nan] = O\n",
      "P6 generuje grupę: {P6, O}\n",
      "---------------------------------------------------\n",
      "Dla krzywej mamy określone  grupy:\n",
      "{P0, O}, {P1, O}, {P6, O}, {P2, P1, P3, O}, {P4, P1, P5, O}\n"
     ]
    },
    {
     "data": {
      "text/plain": [
       "<matplotlib.collections.PathCollection at 0x243bafe0e50>"
      ]
     },
     "execution_count": 10,
     "metadata": {},
     "output_type": "execute_result"
    },
    {
     "data": {
      "image/png": "[encoded data removed]",
      "text/plain": [
       "<Figure size 432x288 with 1 Axes>"
      ]
     },
     "metadata": {
      "needs_background": "light"
     },
     "output_type": "display_data"
    }
   ],
   "source": [
    "points = gen(-1,0,7)\n",
    "\n",
    "print(\"Krzywa: a = -1, b = 0, p = 7\")\n",
    "print(\"Punkty:\",points)\n",
    "print(\"---------------------------------------------------\")\n",
    "print(\"2P0 = \", multiply(2,[0,0],-1,7), \"= O\")\n",
    "print(\"P0 generuje grupę: {P0, O}\")\n",
    "print(\"---------------------------------------------------\")\n",
    "print(\"2P1 = \", multiply(2,[1,0],-1,7), \"= O\")\n",
    "print(\"P1 generuje grupę: {P1, O}\")\n",
    "print(\"---------------------------------------------------\")\n",
    "print(\"2P2 = \", multiply(2,[4,2],-1,7), \"= P1\")\n",
    "print(\"3P2 = \", multiply(3,[4,2],-1,7), \"= P3\")\n",
    "print(\"4P2 = \", multiply(4,[4,2],-1,7), \"= O\")\n",
    "print(\"P2 generuje grupę: {P2, P1, P3, O}\")\n",
    "print(\"---------------------------------------------------\")\n",
    "print(\"2P3 = \", multiply(2,[4,5],-1,7), \"= P1\")\n",
    "print(\"3P3 = \", multiply(3,[4,5],-1,7), \"= P2\")\n",
    "print(\"4P3 = \", multiply(4,[4,5],-1,7), \"= O\")\n",
    "print(\"P3 generuje grupę: {P3, P1, P2, O}\")\n",
    "print(\"---------------------------------------------------\")\n",
    "print(\"2P4 = \", multiply(2,[5,1],-1,7), \"= P1\")\n",
    "print(\"3P4 = \", multiply(3,[5,1],-1,7), \"= P5\")\n",
    "print(\"4P4 = \", multiply(4,[5,1],-1,7), \"= O\")\n",
    "print(\"P4 generuje grupę: {P4, P1, P5, O}\")\n",
    "print(\"---------------------------------------------------\")\n",
    "print(\"2P5 = \", multiply(2,[5,6],-1,7), \"= P1\")\n",
    "print(\"3P5 = \", multiply(3,[5,6],-1,7), \"= P4\")\n",
    "print(\"4P5 = \", multiply(4,[5,6],-1,7), \"= O\")\n",
    "print(\"P5 generuje grupę: {P5, P1, P4, O}\")\n",
    "print(\"---------------------------------------------------\")\n",
    "print(\"2P6 = \", multiply(2,[6,0],-1,7), \"= O\")\n",
    "print(\"P6 generuje grupę: {P6, O}\")\n",
    "print(\"---------------------------------------------------\")\n",
    "print(\"Dla krzywej mamy określone  grupy:\")\n",
    "print(\"{P0, O}, {P1, O}, {P6, O}, {P2, P1, P3, O}, {P4, P1, P5, O}\")\n",
    "\n",
    "plt.scatter(*zip(*points))"
   ]
  },
  {
   "cell_type": "code",
   "execution_count": 11,
   "metadata": {},
   "outputs": [
    {
     "name": "stdout",
     "output_type": "stream",
     "text": [
      "Krzywa: a = -2, b = 1, p = 5\n",
      "Punkty: [[0, 1], [0, 4], [1, 0], [2, 0]]\n",
      "---------------------------------------------------\n",
      "2P0 =  [1, 0] = P2\n",
      "3P0 =  [0, 4] = P1\n",
      "4P0 =  [nan, nan] = O\n",
      "P0 generuje grupę: {P0, P2, P1, O}\n",
      "---------------------------------------------------\n",
      "2P1 =  [1, 0] = P2\n",
      "3P1 =  [0, 1] = P0\n",
      "4P1 =  [nan, nan] = O\n",
      "P1 generuje grupę: {P1, P2, P0, O}\n",
      "---------------------------------------------------\n",
      "2P2 =  [nan, nan] = O\n",
      "P2 generuje grupę: {P2, O}\n",
      "---------------------------------------------------\n",
      "2P3 =  [nan, nan] = O\n",
      "P3 generuje grupę: {P3, O}\n",
      "---------------------------------------------------\n",
      "Dla krzywej mamy określone 3 grupy:\n",
      "{P2, O}, {P3, O}, {P0, P2, P1, O}\n"
     ]
    },
    {
     "data": {
      "text/plain": [
       "<matplotlib.collections.PathCollection at 0x243bb0a09d0>"
      ]
     },
     "execution_count": 11,
     "metadata": {},
     "output_type": "execute_result"
    },
    {
     "data": {
      "image/png": "[encoded data removed]",
      "text/plain": [
       "<Figure size 432x288 with 1 Axes>"
      ]
     },
     "metadata": {
      "needs_background": "light"
     },
     "output_type": "display_data"
    }
   ],
   "source": [
    "points = gen(-2,1,5)\n",
    "\n",
    "print(\"Krzywa: a = -2, b = 1, p = 5\")\n",
    "print(\"Punkty:\",points)\n",
    "print(\"---------------------------------------------------\")\n",
    "print(\"2P0 = \", multiply(2,[0,1],-2,5), \"= P2\")\n",
    "print(\"3P0 = \", multiply(3,[0,1],-2,5), \"= P1\")\n",
    "print(\"4P0 = \", multiply(4,[0,1],-2,5), \"= O\")\n",
    "print(\"P0 generuje grupę: {P0, P2, P1, O}\")\n",
    "print(\"---------------------------------------------------\")\n",
    "print(\"2P1 = \", multiply(2,[0,4],-2,5), \"= P2\")\n",
    "print(\"3P1 = \", multiply(3,[0,4],-2,5), \"= P0\")\n",
    "print(\"4P1 = \", multiply(4,[0,4],-2,5), \"= O\")\n",
    "print(\"P1 generuje grupę: {P1, P2, P0, O}\")\n",
    "print(\"---------------------------------------------------\")\n",
    "print(\"2P2 = \", multiply(2,[1,0],-2,5), \"= O\")\n",
    "print(\"P2 generuje grupę: {P2, O}\")\n",
    "print(\"---------------------------------------------------\")\n",
    "print(\"2P3 = \", multiply(2,[2,0],-2,5), \"= O\")\n",
    "print(\"P3 generuje grupę: {P3, O}\")\n",
    "print(\"---------------------------------------------------\")\n",
    "print(\"Dla krzywej mamy określone 3 grupy:\")\n",
    "print(\"{P2, O}, {P3, O}, {P0, P2, P1, O}\")\n",
    "\n",
    "plt.scatter(*zip(*points))"
   ]
  },
  {
   "cell_type": "markdown",
   "metadata": {},
   "source": [
    "## Zadanie 4 (1 pkt)"
   ]
  },
  {
   "cell_type": "markdown",
   "metadata": {},
   "source": [
    "Sprawdź numerycznie, korzystając z funkcji $gen()$, twierdzenie Hassego. Sprawdź, że ze wzrostem liczby pierwszej $p$ dla krzywej o parametrach $a=-1$, $b=0$ liczba punktów na krzywej podąża za oszacowaniem $p+1-2\\sqrt{p}\\leq\\#E\\leq p+1+2\\sqrt{p}$. Narysuj wykres $\\#E(p)$ i proste o równaniach $p+1-2\\sqrt{p}$ oraz $p+1+2\\sqrt{p}$.\n",
    "\n",
    "Uwaga: Możesz wygenerować liczby pierwsze, np. w zakresie od 0 do 1000, za pomocą:"
   ]
  },
  {
   "cell_type": "code",
   "execution_count": 12,
   "metadata": {},
   "outputs": [
    {
     "data": {
      "text/plain": [
       "<matplotlib.collections.PathCollection at 0x243bc0f82b0>"
      ]
     },
     "execution_count": 12,
     "metadata": {},
     "output_type": "execute_result"
    },
    {
     "data": {
      "image/png": "[encoded data removed]",
      "text/plain": [
       "<Figure size 432x288 with 1 Axes>"
      ]
     },
     "metadata": {
      "needs_background": "light"
     },
     "output_type": "display_data"
    }
   ],
   "source": [
    "from sympy import primerange\n",
    "prime_num_list = list(primerange(0,1000))\n",
    "p_counter = []\n",
    "for i in prime_num_list:\n",
    "    p_counter.append([i, len(gen(-1,0,i))])\n",
    "\n",
    "x = np.array(list(primerange(0,1000)))\n",
    "y1 = x + 1 - (2*np.sqrt(x))\n",
    "plt.plot(x, y1, color =\"green\")\n",
    "y2 = x + 1 + (2*np.sqrt(x))\n",
    "plt.plot(x, y2, color =\"blue\")\n",
    "\n",
    "plt.scatter(*zip(*p_counter))\n",
    "\n"
   ]
  },
  {
   "cell_type": "markdown",
   "metadata": {},
   "source": [
    "lub jakkolwiek inaczej."
   ]
  },
  {
   "cell_type": "markdown",
   "metadata": {},
   "source": [
    "## Zadanie 5 (2 pkt.)"
   ]
  },
  {
   "cell_type": "markdown",
   "metadata": {},
   "source": [
    "Napisz funkcję $ord(G,a,p)$ znajdującą rząd punktu $G$ na krzywej o parametrach $a$, $p$ (oznaczenia jak w poprzednich zadaniach). Rząd elementu to $n$ takie, że $nG=\\mathcal{O}$. Znajdź punkt na krzywej o parametrach $a=-1$,$b=0$,$p=97$ o największym rzędzie, moze ich być więcej niż jeden, wybierz którykolwiek."
   ]
  },
  {
   "cell_type": "code",
   "execution_count": 13,
   "metadata": {},
   "outputs": [],
   "source": [
    "def ord(G,a,p):\n",
    "    rank = 1\n",
    "    point = G\n",
    "    while not np.isnan(point).any():\n",
    "        point = multiply(rank,G,a,p)\n",
    "        rank+=1\n",
    "    return rank-1"
   ]
  },
  {
   "cell_type": "code",
   "execution_count": 14,
   "metadata": {},
   "outputs": [
    {
     "name": "stdout",
     "output_type": "stream",
     "text": [
      "True\n",
      "True\n",
      "True\n",
      "True\n",
      "True\n",
      "True\n"
     ]
    }
   ],
   "source": [
    "print(ord([4,4],-1,11)==3)\n",
    "print(ord([8,8],-1,11)==6)\n",
    "print(ord([3,2],-1,7)==3)\n",
    "print(ord([3,5],-1,7)==3)\n",
    "print(ord([3,2],0,5)==3)\n",
    "print(ord([0,0],0,5)==2)"
   ]
  },
  {
   "cell_type": "code",
   "execution_count": 15,
   "metadata": {},
   "outputs": [
    {
     "name": "stdout",
     "output_type": "stream",
     "text": [
      "[[6, 4], 20]\n"
     ]
    }
   ],
   "source": [
    "e_points = gen(-1,0,97)\n",
    "p = [[0,0],0]\n",
    "for i in e_points:\n",
    "    rank = ord(i,-1,97)\n",
    "    if rank > p[1]:\n",
    "        p[0] = i\n",
    "        p[1] = rank\n",
    "print(p)"
   ]
  },
  {
   "cell_type": "markdown",
   "metadata": {},
   "source": [
    "## Zadanie 6 (1 pkt)"
   ]
  },
  {
   "cell_type": "markdown",
   "metadata": {},
   "source": [
    "Prześledź działanie protokołu Diffiego-Helmana, jednak tym razem opertego o krzywe eliptyczne, i uzupełnij poszczególne kroki.\n",
    "\n",
    "Alicja i Bob ustalają publicznie krzywą eliptyczą (czyli parametry $a$,$b$,$p$) w której będą działać oraz punkt na tej krzywej $G$. Weź krzywą z poprzedniego zadania oraz znaleziony w nim punkt."
   ]
  },
  {
   "cell_type": "code",
   "execution_count": 31,
   "metadata": {},
   "outputs": [],
   "source": [
    "a = -1\n",
    "b = 0\n",
    "G = [6,4]\n",
    "p = 97"
   ]
  },
  {
   "cell_type": "markdown",
   "metadata": {},
   "source": [
    "Alicja wybiera losową liczbę naturalną $n$ z przedziału $[2,\\#E-1]$, $\\#E$ to liczba punktów na krzywej:"
   ]
  },
  {
   "cell_type": "code",
   "execution_count": 32,
   "metadata": {},
   "outputs": [
    {
     "name": "stdout",
     "output_type": "stream",
     "text": [
      "41\n"
     ]
    }
   ],
   "source": [
    "l = list(range(2,len(gen(-1,0,97))-1))\n",
    "n=random.choice(l)\n",
    "print(n)"
   ]
  },
  {
   "cell_type": "markdown",
   "metadata": {},
   "source": [
    "Następnie oblicza $A=nG$ zgodnie z zasadami mnożenia punktów na krzywej przez liczbe naturalną:"
   ]
  },
  {
   "cell_type": "code",
   "execution_count": 33,
   "metadata": {},
   "outputs": [
    {
     "name": "stdout",
     "output_type": "stream",
     "text": [
      "41 [6, 4]\n"
     ]
    }
   ],
   "source": [
    "A=multiply(n,G,-1,97)\n",
    "print(n, A)"
   ]
  },
  {
   "cell_type": "markdown",
   "metadata": {},
   "source": [
    "To samo robi Bob, wybiera losową liczbę naturalną $m$ i oblicza $B=mG$:"
   ]
  },
  {
   "cell_type": "code",
   "execution_count": 34,
   "metadata": {},
   "outputs": [
    {
     "name": "stdout",
     "output_type": "stream",
     "text": [
      "25 [22, 76]\n"
     ]
    }
   ],
   "source": [
    "m=random.choice(l)\n",
    "B=multiply(m,G,-1,97)\n",
    "print(m, B)"
   ]
  },
  {
   "cell_type": "markdown",
   "metadata": {},
   "source": [
    "Liczby $n$ i $m$ są znane tylko, odpowiednio, Alicji i Bobowi, natomiast $A$ oraz $B$ są wymieniane publicznym kanałem. Bob otrzymuje $A$ i wykonuje operację $k_B=mA$, z kolei Alicja otrzymuje $B$ i wykonuje operację $k_A=nB$:"
   ]
  },
  {
   "cell_type": "code",
   "execution_count": 35,
   "metadata": {},
   "outputs": [],
   "source": [
    "k_B=multiply(m,A,-1,97)\n",
    "k_A=multiply(n,B,-1,97)"
   ]
  },
  {
   "cell_type": "code",
   "execution_count": 36,
   "metadata": {},
   "outputs": [
    {
     "data": {
      "text/plain": [
       "True"
      ]
     },
     "execution_count": 36,
     "metadata": {},
     "output_type": "execute_result"
    }
   ],
   "source": [
    "k_A==k_B"
   ]
  },
  {
   "cell_type": "markdown",
   "metadata": {},
   "source": [
    "Zawuażmy, że $k_A=k_B$, wynika to z tego, że $k_A=nB=nmG$ oraz $k_B=mA=mnG$ a oczywiście $nm=mn$. Zatem Alicja i Bob dysponują tą samą liczbą, którą mogą użyć jako klucz do szyfrowania. Publicznie znane są wartości $a$, $b$, $p$, $G$, $nG$ oraz $mG$, jednak odzyskanie z nich $n$ i $m$ jest bardzo trudne przy odpwiednim doborze krzywej i punktu na niej."
   ]
  }
 ],
 "metadata": {
  "kernelspec": {
   "display_name": "Python 3 (ipykernel)",
   "language": "python",
   "name": "python3"
  },
  "language_info": {
   "codemirror_mode": {
    "name": "ipython",
    "version": 3
   },
   "file_extension": ".py",
   "mimetype": "text/x-python",
   "name": "python",
   "nbconvert_exporter": "python",
   "pygments_lexer": "ipython3",
   "version": "3.9.7"
  }
 },
 "nbformat": 4,
 "nbformat_minor": 4
}
